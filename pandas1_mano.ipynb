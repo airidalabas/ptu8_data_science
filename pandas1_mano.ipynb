{
 "cells": [
  {
   "attachments": {},
   "cell_type": "markdown",
   "metadata": {},
   "source": [
    "#Series"
   ]
  },
  {
   "cell_type": "code",
   "execution_count": 13,
   "metadata": {},
   "outputs": [],
   "source": [
    "import pandas as pd\n",
    "import numpy as np"
   ]
  },
  {
   "cell_type": "code",
   "execution_count": null,
   "metadata": {},
   "outputs": [],
   "source": [
    "#datafreimus turi stulpeliai, labelius turi eilutės ...\n",
    "#paimi duomenis ir juos supakuoji i serija"
   ]
  },
  {
   "cell_type": "code",
   "execution_count": 7,
   "metadata": {},
   "outputs": [
    {
     "data": {
      "text/plain": [
       "0    10\n",
       "1    20\n",
       "2    30\n",
       "3    25\n",
       "dtype: int64"
      ]
     },
     "execution_count": 7,
     "metadata": {},
     "output_type": "execute_result"
    }
   ],
   "source": [
    "labels = ['W','X', 'Y', 'Z']\n",
    "data = [10, 20, 30, 25]\n",
    "pandos_serija = pd.Series(data=data)\n",
    "pandos_serija\n",
    "#siingeter nampajuje nera dinamiskas kaip pythone, apsibrezia iskart dydziu siuo atveju int64\n"
   ]
  },
  {
   "cell_type": "code",
   "execution_count": 3,
   "metadata": {},
   "outputs": [
    {
     "data": {
      "text/plain": [
       "9.223372036854776e+18"
      ]
     },
     "execution_count": 3,
     "metadata": {},
     "output_type": "execute_result"
    }
   ],
   "source": [
    "2**64/2-1 #didziausias skaicus ka leidzia int64"
   ]
  },
  {
   "cell_type": "code",
   "execution_count": 8,
   "metadata": {},
   "outputs": [
    {
     "data": {
      "text/plain": [
       "W    10\n",
       "X    20\n",
       "Y    30\n",
       "Z    25\n",
       "dtype: int64"
      ]
     },
     "execution_count": 8,
     "metadata": {},
     "output_type": "execute_result"
    }
   ],
   "source": [
    "suvardinta_serija = pd.Series(data=data, index=labels)\n",
    "suvardinta_serija"
   ]
  },
  {
   "cell_type": "code",
   "execution_count": 9,
   "metadata": {},
   "outputs": [
    {
     "data": {
      "text/plain": [
       "vardas        Kestutis\n",
       "pavarde    Linksmavius\n",
       "amzius              40\n",
       "busena           gyvas\n",
       "dtype: object"
      ]
     },
     "execution_count": 9,
     "metadata": {},
     "output_type": "execute_result"
    }
   ],
   "source": [
    "asmuo = {\n",
    "    \"vardas\": \"Kestutis\",\n",
    "    \"pavarde\": \"Linksmavius\",\n",
    "    \"amzius\": 40,\n",
    "    \"busena\":\"gyvas\"}\n",
    "\n",
    "asmens_serija = pd.Series(asmuo)\n",
    "asmens_serija"
   ]
  },
  {
   "cell_type": "code",
   "execution_count": 15,
   "metadata": {},
   "outputs": [
    {
     "data": {
      "text/plain": [
       "Vilnius     400\n",
       "Kaunas      200\n",
       "Klaipeda    200\n",
       "Palanga     200\n",
       "Kretinga    100\n",
       "dtype: int64"
      ]
     },
     "execution_count": 15,
     "metadata": {},
     "output_type": "execute_result"
    }
   ],
   "source": [
    "miestai_vasara = pd.Series([400, 200, 200, 200, 100], [\"Vilnius\", \"Kaunas\", \"Klaipeda\", \"Palanga\", \"Kretinga\"])\n",
    "miestai_vasara"
   ]
  },
  {
   "cell_type": "code",
   "execution_count": 16,
   "metadata": {},
   "outputs": [
    {
     "data": {
      "text/plain": [
       "Vilnius      500\n",
       "Kaunas       300\n",
       "Klaipeda     150\n",
       "Panevežys    100\n",
       "Šiauliai      75\n",
       "dtype: int64"
      ]
     },
     "execution_count": 16,
     "metadata": {},
     "output_type": "execute_result"
    }
   ],
   "source": [
    "miestai_ziema = pd.Series([500, 300, 150, 100, 75], [\"Vilnius\", \"Kaunas\", \"Klaipeda\", \"Panevežys\", \"Šiauliai\"])\n",
    "miestai_ziema"
   ]
  },
  {
   "cell_type": "code",
   "execution_count": 17,
   "metadata": {},
   "outputs": [
    {
     "data": {
      "text/plain": [
       "Kaunas       500.0\n",
       "Klaipeda     350.0\n",
       "Kretinga       NaN\n",
       "Palanga        NaN\n",
       "Panevežys      NaN\n",
       "Vilnius      900.0\n",
       "Šiauliai       NaN\n",
       "dtype: float64"
      ]
     },
     "execution_count": 17,
     "metadata": {},
     "output_type": "execute_result"
    }
   ],
   "source": [
    "miestai_ziema + miestai_vasara #sudeda tik tuos kurie turi du skaicius"
   ]
  },
  {
   "attachments": {},
   "cell_type": "markdown",
   "metadata": {},
   "source": [
    "###Data frame"
   ]
  },
  {
   "cell_type": "code",
   "execution_count": 22,
   "metadata": {},
   "outputs": [
    {
     "data": {
      "text/html": [
       "<div>\n",
       "<style scoped>\n",
       "    .dataframe tbody tr th:only-of-type {\n",
       "        vertical-align: middle;\n",
       "    }\n",
       "\n",
       "    .dataframe tbody tr th {\n",
       "        vertical-align: top;\n",
       "    }\n",
       "\n",
       "    .dataframe thead th {\n",
       "        text-align: right;\n",
       "    }\n",
       "</style>\n",
       "<table border=\"1\" class=\"dataframe\">\n",
       "  <thead>\n",
       "    <tr style=\"text-align: right;\">\n",
       "      <th></th>\n",
       "      <th>U</th>\n",
       "      <th>V</th>\n",
       "      <th>W</th>\n",
       "      <th>X</th>\n",
       "      <th>Y</th>\n",
       "      <th>Z</th>\n",
       "    </tr>\n",
       "  </thead>\n",
       "  <tbody>\n",
       "    <tr>\n",
       "      <th>a</th>\n",
       "      <td>0.868811</td>\n",
       "      <td>0.875433</td>\n",
       "      <td>0.302712</td>\n",
       "      <td>0.788802</td>\n",
       "      <td>0.450121</td>\n",
       "      <td>0.930797</td>\n",
       "    </tr>\n",
       "    <tr>\n",
       "      <th>b</th>\n",
       "      <td>0.749854</td>\n",
       "      <td>0.326036</td>\n",
       "      <td>0.794761</td>\n",
       "      <td>0.072283</td>\n",
       "      <td>0.803659</td>\n",
       "      <td>0.957795</td>\n",
       "    </tr>\n",
       "    <tr>\n",
       "      <th>c</th>\n",
       "      <td>0.299344</td>\n",
       "      <td>0.716571</td>\n",
       "      <td>0.374422</td>\n",
       "      <td>0.141462</td>\n",
       "      <td>0.394826</td>\n",
       "      <td>0.550029</td>\n",
       "    </tr>\n",
       "    <tr>\n",
       "      <th>d</th>\n",
       "      <td>0.350101</td>\n",
       "      <td>0.524433</td>\n",
       "      <td>0.605084</td>\n",
       "      <td>0.311294</td>\n",
       "      <td>0.845480</td>\n",
       "      <td>0.599252</td>\n",
       "    </tr>\n",
       "    <tr>\n",
       "      <th>e</th>\n",
       "      <td>0.026075</td>\n",
       "      <td>0.838956</td>\n",
       "      <td>0.658043</td>\n",
       "      <td>0.024436</td>\n",
       "      <td>0.599507</td>\n",
       "      <td>0.281806</td>\n",
       "    </tr>\n",
       "  </tbody>\n",
       "</table>\n",
       "</div>"
      ],
      "text/plain": [
       "          U         V         W         X         Y         Z\n",
       "a  0.868811  0.875433  0.302712  0.788802  0.450121  0.930797\n",
       "b  0.749854  0.326036  0.794761  0.072283  0.803659  0.957795\n",
       "c  0.299344  0.716571  0.374422  0.141462  0.394826  0.550029\n",
       "d  0.350101  0.524433  0.605084  0.311294  0.845480  0.599252\n",
       "e  0.026075  0.838956  0.658043  0.024436  0.599507  0.281806"
      ]
     },
     "execution_count": 22,
     "metadata": {},
     "output_type": "execute_result"
    }
   ],
   "source": [
    "bet_kas = pd.DataFrame(np.random.rand(5,6), \n",
    "                  ['a', 'b', 'c', 'd', 'e'], \n",
    "                  ['U', 'V', 'W', 'X', 'Y', 'Z'])\n",
    "\n",
    "bet_kas"
   ]
  },
  {
   "cell_type": "code",
   "execution_count": 23,
   "metadata": {},
   "outputs": [
    {
     "data": {
      "text/plain": [
       "a    0.868811\n",
       "b    0.749854\n",
       "c    0.299344\n",
       "d    0.350101\n",
       "e    0.026075\n",
       "Name: U, dtype: float64"
      ]
     },
     "execution_count": 23,
     "metadata": {},
     "output_type": "execute_result"
    }
   ],
   "source": [
    "bet_kas[\"U\"]"
   ]
  },
  {
   "cell_type": "code",
   "execution_count": 24,
   "metadata": {},
   "outputs": [
    {
     "name": "stdout",
     "output_type": "stream",
     "text": [
      "<class 'pandas.core.frame.DataFrame'>\n",
      "<class 'pandas.core.series.Series'>\n"
     ]
    }
   ],
   "source": [
    "print(type(bet_kas))\n",
    "print(type(bet_kas['U']))"
   ]
  },
  {
   "cell_type": "code",
   "execution_count": 25,
   "metadata": {},
   "outputs": [
    {
     "data": {
      "text/html": [
       "<div>\n",
       "<style scoped>\n",
       "    .dataframe tbody tr th:only-of-type {\n",
       "        vertical-align: middle;\n",
       "    }\n",
       "\n",
       "    .dataframe tbody tr th {\n",
       "        vertical-align: top;\n",
       "    }\n",
       "\n",
       "    .dataframe thead th {\n",
       "        text-align: right;\n",
       "    }\n",
       "</style>\n",
       "<table border=\"1\" class=\"dataframe\">\n",
       "  <thead>\n",
       "    <tr style=\"text-align: right;\">\n",
       "      <th></th>\n",
       "      <th>U</th>\n",
       "      <th>V</th>\n",
       "      <th>W</th>\n",
       "      <th>X</th>\n",
       "      <th>Y</th>\n",
       "      <th>Z</th>\n",
       "      <th>T-naujas</th>\n",
       "    </tr>\n",
       "  </thead>\n",
       "  <tbody>\n",
       "    <tr>\n",
       "      <th>a</th>\n",
       "      <td>0.868811</td>\n",
       "      <td>0.875433</td>\n",
       "      <td>0.302712</td>\n",
       "      <td>0.788802</td>\n",
       "      <td>0.450121</td>\n",
       "      <td>0.930797</td>\n",
       "      <td>0.474039</td>\n",
       "    </tr>\n",
       "    <tr>\n",
       "      <th>b</th>\n",
       "      <td>0.749854</td>\n",
       "      <td>0.326036</td>\n",
       "      <td>0.794761</td>\n",
       "      <td>0.072283</td>\n",
       "      <td>0.803659</td>\n",
       "      <td>0.957795</td>\n",
       "      <td>0.657600</td>\n",
       "    </tr>\n",
       "    <tr>\n",
       "      <th>c</th>\n",
       "      <td>0.299344</td>\n",
       "      <td>0.716571</td>\n",
       "      <td>0.374422</td>\n",
       "      <td>0.141462</td>\n",
       "      <td>0.394826</td>\n",
       "      <td>0.550029</td>\n",
       "      <td>0.471446</td>\n",
       "    </tr>\n",
       "    <tr>\n",
       "      <th>d</th>\n",
       "      <td>0.350101</td>\n",
       "      <td>0.524433</td>\n",
       "      <td>0.605084</td>\n",
       "      <td>0.311294</td>\n",
       "      <td>0.845480</td>\n",
       "      <td>0.599252</td>\n",
       "      <td>0.796945</td>\n",
       "    </tr>\n",
       "    <tr>\n",
       "      <th>e</th>\n",
       "      <td>0.026075</td>\n",
       "      <td>0.838956</td>\n",
       "      <td>0.658043</td>\n",
       "      <td>0.024436</td>\n",
       "      <td>0.599507</td>\n",
       "      <td>0.281806</td>\n",
       "      <td>0.868040</td>\n",
       "    </tr>\n",
       "  </tbody>\n",
       "</table>\n",
       "</div>"
      ],
      "text/plain": [
       "          U         V         W         X         Y         Z  T-naujas\n",
       "a  0.868811  0.875433  0.302712  0.788802  0.450121  0.930797  0.474039\n",
       "b  0.749854  0.326036  0.794761  0.072283  0.803659  0.957795  0.657600\n",
       "c  0.299344  0.716571  0.374422  0.141462  0.394826  0.550029  0.471446\n",
       "d  0.350101  0.524433  0.605084  0.311294  0.845480  0.599252  0.796945\n",
       "e  0.026075  0.838956  0.658043  0.024436  0.599507  0.281806  0.868040"
      ]
     },
     "execution_count": 25,
     "metadata": {},
     "output_type": "execute_result"
    }
   ],
   "source": [
    "bet_kas['T-naujas'] = np.random.rand(5) #pridejo nauja stulpeli\n",
    "bet_kas"
   ]
  },
  {
   "cell_type": "code",
   "execution_count": 26,
   "metadata": {},
   "outputs": [
    {
     "data": {
      "text/html": [
       "<div>\n",
       "<style scoped>\n",
       "    .dataframe tbody tr th:only-of-type {\n",
       "        vertical-align: middle;\n",
       "    }\n",
       "\n",
       "    .dataframe tbody tr th {\n",
       "        vertical-align: top;\n",
       "    }\n",
       "\n",
       "    .dataframe thead th {\n",
       "        text-align: right;\n",
       "    }\n",
       "</style>\n",
       "<table border=\"1\" class=\"dataframe\">\n",
       "  <thead>\n",
       "    <tr style=\"text-align: right;\">\n",
       "      <th></th>\n",
       "      <th>U</th>\n",
       "      <th>V</th>\n",
       "      <th>W</th>\n",
       "      <th>X</th>\n",
       "      <th>Y</th>\n",
       "      <th>Z</th>\n",
       "    </tr>\n",
       "  </thead>\n",
       "  <tbody>\n",
       "    <tr>\n",
       "      <th>a</th>\n",
       "      <td>0.868811</td>\n",
       "      <td>0.875433</td>\n",
       "      <td>0.302712</td>\n",
       "      <td>0.788802</td>\n",
       "      <td>0.450121</td>\n",
       "      <td>0.930797</td>\n",
       "    </tr>\n",
       "    <tr>\n",
       "      <th>b</th>\n",
       "      <td>0.749854</td>\n",
       "      <td>0.326036</td>\n",
       "      <td>0.794761</td>\n",
       "      <td>0.072283</td>\n",
       "      <td>0.803659</td>\n",
       "      <td>0.957795</td>\n",
       "    </tr>\n",
       "    <tr>\n",
       "      <th>c</th>\n",
       "      <td>0.299344</td>\n",
       "      <td>0.716571</td>\n",
       "      <td>0.374422</td>\n",
       "      <td>0.141462</td>\n",
       "      <td>0.394826</td>\n",
       "      <td>0.550029</td>\n",
       "    </tr>\n",
       "    <tr>\n",
       "      <th>d</th>\n",
       "      <td>0.350101</td>\n",
       "      <td>0.524433</td>\n",
       "      <td>0.605084</td>\n",
       "      <td>0.311294</td>\n",
       "      <td>0.845480</td>\n",
       "      <td>0.599252</td>\n",
       "    </tr>\n",
       "    <tr>\n",
       "      <th>e</th>\n",
       "      <td>0.026075</td>\n",
       "      <td>0.838956</td>\n",
       "      <td>0.658043</td>\n",
       "      <td>0.024436</td>\n",
       "      <td>0.599507</td>\n",
       "      <td>0.281806</td>\n",
       "    </tr>\n",
       "  </tbody>\n",
       "</table>\n",
       "</div>"
      ],
      "text/plain": [
       "          U         V         W         X         Y         Z\n",
       "a  0.868811  0.875433  0.302712  0.788802  0.450121  0.930797\n",
       "b  0.749854  0.326036  0.794761  0.072283  0.803659  0.957795\n",
       "c  0.299344  0.716571  0.374422  0.141462  0.394826  0.550029\n",
       "d  0.350101  0.524433  0.605084  0.311294  0.845480  0.599252\n",
       "e  0.026075  0.838956  0.658043  0.024436  0.599507  0.281806"
      ]
     },
     "execution_count": 26,
     "metadata": {},
     "output_type": "execute_result"
    }
   ],
   "source": [
    "bet_kas.drop('T-naujas', axis=1, inplace=True)\n",
    "bet_kas\n",
    "#pandos visada darosi kopija todel reikia nurodyti in place, tada veiksmas vykst ant to pacio objkto"
   ]
  },
  {
   "cell_type": "code",
   "execution_count": 27,
   "metadata": {},
   "outputs": [
    {
     "data": {
      "text/plain": [
       "U    0.868811\n",
       "V    0.875433\n",
       "W    0.302712\n",
       "X    0.788802\n",
       "Y    0.450121\n",
       "Z    0.930797\n",
       "Name: a, dtype: float64"
      ]
     },
     "execution_count": 27,
     "metadata": {},
     "output_type": "execute_result"
    }
   ],
   "source": [
    "a_eilute_is_bet_ko = bet_kas.loc['a']\n",
    "a_eilute_is_bet_ko"
   ]
  },
  {
   "cell_type": "code",
   "execution_count": 28,
   "metadata": {},
   "outputs": [
    {
     "data": {
      "text/html": [
       "<div>\n",
       "<style scoped>\n",
       "    .dataframe tbody tr th:only-of-type {\n",
       "        vertical-align: middle;\n",
       "    }\n",
       "\n",
       "    .dataframe tbody tr th {\n",
       "        vertical-align: top;\n",
       "    }\n",
       "\n",
       "    .dataframe thead th {\n",
       "        text-align: right;\n",
       "    }\n",
       "</style>\n",
       "<table border=\"1\" class=\"dataframe\">\n",
       "  <thead>\n",
       "    <tr style=\"text-align: right;\">\n",
       "      <th></th>\n",
       "      <th>U</th>\n",
       "      <th>V</th>\n",
       "      <th>W</th>\n",
       "      <th>X</th>\n",
       "      <th>Y</th>\n",
       "      <th>Z</th>\n",
       "    </tr>\n",
       "  </thead>\n",
       "  <tbody>\n",
       "    <tr>\n",
       "      <th>a</th>\n",
       "      <td>0.868811</td>\n",
       "      <td>0.875433</td>\n",
       "      <td>0.302712</td>\n",
       "      <td>0.788802</td>\n",
       "      <td>0.450121</td>\n",
       "      <td>0.930797</td>\n",
       "    </tr>\n",
       "    <tr>\n",
       "      <th>b</th>\n",
       "      <td>0.749854</td>\n",
       "      <td>0.326036</td>\n",
       "      <td>0.794761</td>\n",
       "      <td>0.072283</td>\n",
       "      <td>0.803659</td>\n",
       "      <td>0.957795</td>\n",
       "    </tr>\n",
       "    <tr>\n",
       "      <th>c</th>\n",
       "      <td>0.299344</td>\n",
       "      <td>0.716571</td>\n",
       "      <td>0.374422</td>\n",
       "      <td>0.141462</td>\n",
       "      <td>0.394826</td>\n",
       "      <td>0.550029</td>\n",
       "    </tr>\n",
       "    <tr>\n",
       "      <th>d</th>\n",
       "      <td>0.350101</td>\n",
       "      <td>0.524433</td>\n",
       "      <td>0.605084</td>\n",
       "      <td>0.311294</td>\n",
       "      <td>0.845480</td>\n",
       "      <td>0.599252</td>\n",
       "    </tr>\n",
       "  </tbody>\n",
       "</table>\n",
       "</div>"
      ],
      "text/plain": [
       "          U         V         W         X         Y         Z\n",
       "a  0.868811  0.875433  0.302712  0.788802  0.450121  0.930797\n",
       "b  0.749854  0.326036  0.794761  0.072283  0.803659  0.957795\n",
       "c  0.299344  0.716571  0.374422  0.141462  0.394826  0.550029\n",
       "d  0.350101  0.524433  0.605084  0.311294  0.845480  0.599252"
      ]
     },
     "execution_count": 28,
     "metadata": {},
     "output_type": "execute_result"
    }
   ],
   "source": [
    "bet_kas.drop('e')"
   ]
  },
  {
   "cell_type": "code",
   "execution_count": 29,
   "metadata": {},
   "outputs": [
    {
     "data": {
      "text/plain": [
       "U    0.026075\n",
       "V    0.838956\n",
       "W    0.658043\n",
       "X    0.024436\n",
       "Y    0.599507\n",
       "Z    0.281806\n",
       "Name: e, dtype: float64"
      ]
     },
     "execution_count": 29,
     "metadata": {},
     "output_type": "execute_result"
    }
   ],
   "source": [
    "bet_kas.iloc[4] #nurodo ketvirta eilute ta kuria istryneme"
   ]
  },
  {
   "cell_type": "code",
   "execution_count": 30,
   "metadata": {},
   "outputs": [
    {
     "data": {
      "text/plain": [
       "U    0.868811\n",
       "V    0.875433\n",
       "W    0.302712\n",
       "X    0.788802\n",
       "Y    0.450121\n",
       "Z    0.930797\n",
       "Name: a, dtype: float64"
      ]
     },
     "execution_count": 30,
     "metadata": {},
     "output_type": "execute_result"
    }
   ],
   "source": [
    "bet_kas.iloc[0] #rodo pirma eilute"
   ]
  },
  {
   "cell_type": "code",
   "execution_count": 31,
   "metadata": {},
   "outputs": [
    {
     "data": {
      "text/plain": [
       "0.9307966001459039"
      ]
     },
     "execution_count": 31,
     "metadata": {},
     "output_type": "execute_result"
    }
   ],
   "source": [
    "bet_kas.loc[\"a\", \"Z\"] #eilute a, stulpelis Z"
   ]
  },
  {
   "cell_type": "code",
   "execution_count": 32,
   "metadata": {},
   "outputs": [
    {
     "data": {
      "text/html": [
       "<div>\n",
       "<style scoped>\n",
       "    .dataframe tbody tr th:only-of-type {\n",
       "        vertical-align: middle;\n",
       "    }\n",
       "\n",
       "    .dataframe tbody tr th {\n",
       "        vertical-align: top;\n",
       "    }\n",
       "\n",
       "    .dataframe thead th {\n",
       "        text-align: right;\n",
       "    }\n",
       "</style>\n",
       "<table border=\"1\" class=\"dataframe\">\n",
       "  <thead>\n",
       "    <tr style=\"text-align: right;\">\n",
       "      <th></th>\n",
       "      <th>U</th>\n",
       "      <th>X</th>\n",
       "      <th>Z</th>\n",
       "    </tr>\n",
       "  </thead>\n",
       "  <tbody>\n",
       "    <tr>\n",
       "      <th>a</th>\n",
       "      <td>0.868811</td>\n",
       "      <td>0.788802</td>\n",
       "      <td>0.930797</td>\n",
       "    </tr>\n",
       "    <tr>\n",
       "      <th>c</th>\n",
       "      <td>0.299344</td>\n",
       "      <td>0.141462</td>\n",
       "      <td>0.550029</td>\n",
       "    </tr>\n",
       "  </tbody>\n",
       "</table>\n",
       "</div>"
      ],
      "text/plain": [
       "          U         X         Z\n",
       "a  0.868811  0.788802  0.930797\n",
       "c  0.299344  0.141462  0.550029"
      ]
     },
     "execution_count": 32,
     "metadata": {},
     "output_type": "execute_result"
    }
   ],
   "source": [
    "bet_kas.loc[['a', 'c'], ['U', 'X', 'Z']] #eilutes a ir c imtinai bei stulpeliai U X Z, ima tik pagal label reiksmes, bet ne pagal konkrecios reiksmes indeksa"
   ]
  },
  {
   "cell_type": "code",
   "execution_count": 33,
   "metadata": {},
   "outputs": [
    {
     "data": {
      "text/plain": [
       "c    0.394826\n",
       "e    0.599507\n",
       "Name: Y, dtype: float64"
      ]
     },
     "execution_count": 33,
     "metadata": {},
     "output_type": "execute_result"
    }
   ],
   "source": [
    "bet_kas.iloc[[2, 4], -2] # ima pagal reiksmes indeksa"
   ]
  },
  {
   "cell_type": "code",
   "execution_count": 36,
   "metadata": {},
   "outputs": [
    {
     "data": {
      "text/plain": [
       "c    0.299344\n",
       "e    0.026075\n",
       "Name: U, dtype: float64"
      ]
     },
     "execution_count": 36,
     "metadata": {},
     "output_type": "execute_result"
    }
   ],
   "source": [
    "bet_kas.iloc[[2, 4], 0] #pirma nurodo eilutes reiskmes, o tada kuriame jos stuleplyje"
   ]
  },
  {
   "cell_type": "code",
   "execution_count": 34,
   "metadata": {},
   "outputs": [
    {
     "data": {
      "text/html": [
       "<div>\n",
       "<style scoped>\n",
       "    .dataframe tbody tr th:only-of-type {\n",
       "        vertical-align: middle;\n",
       "    }\n",
       "\n",
       "    .dataframe tbody tr th {\n",
       "        vertical-align: top;\n",
       "    }\n",
       "\n",
       "    .dataframe thead th {\n",
       "        text-align: right;\n",
       "    }\n",
       "</style>\n",
       "<table border=\"1\" class=\"dataframe\">\n",
       "  <thead>\n",
       "    <tr style=\"text-align: right;\">\n",
       "      <th></th>\n",
       "      <th>U</th>\n",
       "      <th>V</th>\n",
       "      <th>W</th>\n",
       "    </tr>\n",
       "  </thead>\n",
       "  <tbody>\n",
       "    <tr>\n",
       "      <th>b</th>\n",
       "      <td>0.749854</td>\n",
       "      <td>0.326036</td>\n",
       "      <td>0.794761</td>\n",
       "    </tr>\n",
       "    <tr>\n",
       "      <th>c</th>\n",
       "      <td>0.299344</td>\n",
       "      <td>0.716571</td>\n",
       "      <td>0.374422</td>\n",
       "    </tr>\n",
       "    <tr>\n",
       "      <th>d</th>\n",
       "      <td>0.350101</td>\n",
       "      <td>0.524433</td>\n",
       "      <td>0.605084</td>\n",
       "    </tr>\n",
       "  </tbody>\n",
       "</table>\n",
       "</div>"
      ],
      "text/plain": [
       "          U         V         W\n",
       "b  0.749854  0.326036  0.794761\n",
       "c  0.299344  0.716571  0.374422\n",
       "d  0.350101  0.524433  0.605084"
      ]
     },
     "execution_count": 34,
     "metadata": {},
     "output_type": "execute_result"
    }
   ],
   "source": [
    "bet_kas.iloc[[x for x in range(1,4)], [y for y in range (0,3)]]"
   ]
  },
  {
   "cell_type": "code",
   "execution_count": 54,
   "metadata": {},
   "outputs": [
    {
     "data": {
      "text/html": [
       "<div>\n",
       "<style scoped>\n",
       "    .dataframe tbody tr th:only-of-type {\n",
       "        vertical-align: middle;\n",
       "    }\n",
       "\n",
       "    .dataframe tbody tr th {\n",
       "        vertical-align: top;\n",
       "    }\n",
       "\n",
       "    .dataframe thead th {\n",
       "        text-align: right;\n",
       "    }\n",
       "</style>\n",
       "<table border=\"1\" class=\"dataframe\">\n",
       "  <thead>\n",
       "    <tr style=\"text-align: right;\">\n",
       "      <th></th>\n",
       "      <th>U</th>\n",
       "      <th>V</th>\n",
       "      <th>W</th>\n",
       "      <th>X</th>\n",
       "      <th>Y</th>\n",
       "      <th>Z</th>\n",
       "    </tr>\n",
       "  </thead>\n",
       "  <tbody>\n",
       "    <tr>\n",
       "      <th>a</th>\n",
       "      <td>NaN</td>\n",
       "      <td>NaN</td>\n",
       "      <td>NaN</td>\n",
       "      <td>0.979447</td>\n",
       "      <td>NaN</td>\n",
       "      <td>NaN</td>\n",
       "    </tr>\n",
       "    <tr>\n",
       "      <th>b</th>\n",
       "      <td>0.781427</td>\n",
       "      <td>0.922293</td>\n",
       "      <td>0.917150</td>\n",
       "      <td>NaN</td>\n",
       "      <td>NaN</td>\n",
       "      <td>NaN</td>\n",
       "    </tr>\n",
       "    <tr>\n",
       "      <th>c</th>\n",
       "      <td>NaN</td>\n",
       "      <td>0.645294</td>\n",
       "      <td>NaN</td>\n",
       "      <td>0.751417</td>\n",
       "      <td>NaN</td>\n",
       "      <td>NaN</td>\n",
       "    </tr>\n",
       "    <tr>\n",
       "      <th>d</th>\n",
       "      <td>0.815108</td>\n",
       "      <td>NaN</td>\n",
       "      <td>NaN</td>\n",
       "      <td>0.888553</td>\n",
       "      <td>NaN</td>\n",
       "      <td>NaN</td>\n",
       "    </tr>\n",
       "    <tr>\n",
       "      <th>e</th>\n",
       "      <td>0.664400</td>\n",
       "      <td>NaN</td>\n",
       "      <td>0.984422</td>\n",
       "      <td>NaN</td>\n",
       "      <td>0.51261</td>\n",
       "      <td>0.539447</td>\n",
       "    </tr>\n",
       "  </tbody>\n",
       "</table>\n",
       "</div>"
      ],
      "text/plain": [
       "          U         V         W         X        Y         Z\n",
       "a       NaN       NaN       NaN  0.979447      NaN       NaN\n",
       "b  0.781427  0.922293  0.917150       NaN      NaN       NaN\n",
       "c       NaN  0.645294       NaN  0.751417      NaN       NaN\n",
       "d  0.815108       NaN       NaN  0.888553      NaN       NaN\n",
       "e  0.664400       NaN  0.984422       NaN  0.51261  0.539447"
      ]
     },
     "execution_count": 54,
     "metadata": {},
     "output_type": "execute_result"
    }
   ],
   "source": [
    "#duomenu traukimas pagal salyga\n",
    "bet_kas[bet_kas > 0.5]"
   ]
  },
  {
   "cell_type": "code",
   "execution_count": 55,
   "metadata": {},
   "outputs": [
    {
     "data": {
      "text/html": [
       "<div>\n",
       "<style scoped>\n",
       "    .dataframe tbody tr th:only-of-type {\n",
       "        vertical-align: middle;\n",
       "    }\n",
       "\n",
       "    .dataframe tbody tr th {\n",
       "        vertical-align: top;\n",
       "    }\n",
       "\n",
       "    .dataframe thead th {\n",
       "        text-align: right;\n",
       "    }\n",
       "</style>\n",
       "<table border=\"1\" class=\"dataframe\">\n",
       "  <thead>\n",
       "    <tr style=\"text-align: right;\">\n",
       "      <th></th>\n",
       "      <th>U</th>\n",
       "      <th>V</th>\n",
       "      <th>W</th>\n",
       "      <th>X</th>\n",
       "      <th>Y</th>\n",
       "      <th>Z</th>\n",
       "    </tr>\n",
       "  </thead>\n",
       "  <tbody>\n",
       "    <tr>\n",
       "      <th>b</th>\n",
       "      <td>0.781427</td>\n",
       "      <td>0.922293</td>\n",
       "      <td>0.917150</td>\n",
       "      <td>0.248265</td>\n",
       "      <td>0.216708</td>\n",
       "      <td>0.132129</td>\n",
       "    </tr>\n",
       "    <tr>\n",
       "      <th>e</th>\n",
       "      <td>0.664400</td>\n",
       "      <td>0.110487</td>\n",
       "      <td>0.984422</td>\n",
       "      <td>0.310664</td>\n",
       "      <td>0.512610</td>\n",
       "      <td>0.539447</td>\n",
       "    </tr>\n",
       "  </tbody>\n",
       "</table>\n",
       "</div>"
      ],
      "text/plain": [
       "          U         V         W         X         Y         Z\n",
       "b  0.781427  0.922293  0.917150  0.248265  0.216708  0.132129\n",
       "e  0.664400  0.110487  0.984422  0.310664  0.512610  0.539447"
      ]
     },
     "execution_count": 55,
     "metadata": {},
     "output_type": "execute_result"
    }
   ],
   "source": [
    "bet_kas[bet_kas[\"W\"]> 0.5] #pagal W stulpelio filtara isfiltruoja, kitas eilutes"
   ]
  },
  {
   "cell_type": "code",
   "execution_count": 56,
   "metadata": {},
   "outputs": [
    {
     "data": {
      "text/html": [
       "<div>\n",
       "<style scoped>\n",
       "    .dataframe tbody tr th:only-of-type {\n",
       "        vertical-align: middle;\n",
       "    }\n",
       "\n",
       "    .dataframe tbody tr th {\n",
       "        vertical-align: top;\n",
       "    }\n",
       "\n",
       "    .dataframe thead th {\n",
       "        text-align: right;\n",
       "    }\n",
       "</style>\n",
       "<table border=\"1\" class=\"dataframe\">\n",
       "  <thead>\n",
       "    <tr style=\"text-align: right;\">\n",
       "      <th></th>\n",
       "      <th>U</th>\n",
       "      <th>W</th>\n",
       "      <th>Z</th>\n",
       "    </tr>\n",
       "  </thead>\n",
       "  <tbody>\n",
       "    <tr>\n",
       "      <th>b</th>\n",
       "      <td>0.781427</td>\n",
       "      <td>0.917150</td>\n",
       "      <td>0.132129</td>\n",
       "    </tr>\n",
       "    <tr>\n",
       "      <th>e</th>\n",
       "      <td>0.664400</td>\n",
       "      <td>0.984422</td>\n",
       "      <td>0.539447</td>\n",
       "    </tr>\n",
       "  </tbody>\n",
       "</table>\n",
       "</div>"
      ],
      "text/plain": [
       "          U         W         Z\n",
       "b  0.781427  0.917150  0.132129\n",
       "e  0.664400  0.984422  0.539447"
      ]
     },
     "execution_count": 56,
     "metadata": {},
     "output_type": "execute_result"
    }
   ],
   "source": [
    "bet_kas[bet_kas[\"W\"]> 0.5][['U', 'W', 'Z']]"
   ]
  },
  {
   "cell_type": "code",
   "execution_count": 61,
   "metadata": {},
   "outputs": [
    {
     "data": {
      "text/html": [
       "<div>\n",
       "<style scoped>\n",
       "    .dataframe tbody tr th:only-of-type {\n",
       "        vertical-align: middle;\n",
       "    }\n",
       "\n",
       "    .dataframe tbody tr th {\n",
       "        vertical-align: top;\n",
       "    }\n",
       "\n",
       "    .dataframe thead th {\n",
       "        text-align: right;\n",
       "    }\n",
       "</style>\n",
       "<table border=\"1\" class=\"dataframe\">\n",
       "  <thead>\n",
       "    <tr style=\"text-align: right;\">\n",
       "      <th></th>\n",
       "      <th>U</th>\n",
       "      <th>V</th>\n",
       "      <th>W</th>\n",
       "      <th>X</th>\n",
       "      <th>Y</th>\n",
       "      <th>Z</th>\n",
       "    </tr>\n",
       "  </thead>\n",
       "  <tbody>\n",
       "    <tr>\n",
       "      <th>b</th>\n",
       "      <td>0.781427</td>\n",
       "      <td>0.922293</td>\n",
       "      <td>0.917150</td>\n",
       "      <td>0.248265</td>\n",
       "      <td>0.216708</td>\n",
       "      <td>0.132129</td>\n",
       "    </tr>\n",
       "    <tr>\n",
       "      <th>d</th>\n",
       "      <td>0.815108</td>\n",
       "      <td>0.075976</td>\n",
       "      <td>0.460674</td>\n",
       "      <td>0.888553</td>\n",
       "      <td>0.313112</td>\n",
       "      <td>0.259193</td>\n",
       "    </tr>\n",
       "  </tbody>\n",
       "</table>\n",
       "</div>"
      ],
      "text/plain": [
       "          U         V         W         X         Y         Z\n",
       "b  0.781427  0.922293  0.917150  0.248265  0.216708  0.132129\n",
       "d  0.815108  0.075976  0.460674  0.888553  0.313112  0.259193"
      ]
     },
     "execution_count": 61,
     "metadata": {},
     "output_type": "execute_result"
    }
   ],
   "source": [
    "bet_kas[(bet_kas['U']>0.5) & (bet_kas['Z']<0.5)] #pirmas filtas nurodo, kokiu duomenu reikia, antru is kur duomenys paimami"
   ]
  },
  {
   "cell_type": "code",
   "execution_count": 62,
   "metadata": {},
   "outputs": [
    {
     "data": {
      "text/html": [
       "<div>\n",
       "<style scoped>\n",
       "    .dataframe tbody tr th:only-of-type {\n",
       "        vertical-align: middle;\n",
       "    }\n",
       "\n",
       "    .dataframe tbody tr th {\n",
       "        vertical-align: top;\n",
       "    }\n",
       "\n",
       "    .dataframe thead th {\n",
       "        text-align: right;\n",
       "    }\n",
       "</style>\n",
       "<table border=\"1\" class=\"dataframe\">\n",
       "  <thead>\n",
       "    <tr style=\"text-align: right;\">\n",
       "      <th></th>\n",
       "      <th>U</th>\n",
       "      <th>Z</th>\n",
       "    </tr>\n",
       "  </thead>\n",
       "  <tbody>\n",
       "    <tr>\n",
       "      <th>b</th>\n",
       "      <td>0.781427</td>\n",
       "      <td>0.132129</td>\n",
       "    </tr>\n",
       "    <tr>\n",
       "      <th>d</th>\n",
       "      <td>0.815108</td>\n",
       "      <td>0.259193</td>\n",
       "    </tr>\n",
       "  </tbody>\n",
       "</table>\n",
       "</div>"
      ],
      "text/plain": [
       "          U         Z\n",
       "b  0.781427  0.132129\n",
       "d  0.815108  0.259193"
      ]
     },
     "execution_count": 62,
     "metadata": {},
     "output_type": "execute_result"
    }
   ],
   "source": [
    "bet_kas[(bet_kas['U']>0.5) & (bet_kas['Z']<0.5)][['U', 'Z']]"
   ]
  },
  {
   "attachments": {},
   "cell_type": "markdown",
   "metadata": {},
   "source": [
    "#indeksai"
   ]
  },
  {
   "cell_type": "code",
   "execution_count": 37,
   "metadata": {},
   "outputs": [
    {
     "data": {
      "text/html": [
       "<div>\n",
       "<style scoped>\n",
       "    .dataframe tbody tr th:only-of-type {\n",
       "        vertical-align: middle;\n",
       "    }\n",
       "\n",
       "    .dataframe tbody tr th {\n",
       "        vertical-align: top;\n",
       "    }\n",
       "\n",
       "    .dataframe thead th {\n",
       "        text-align: right;\n",
       "    }\n",
       "</style>\n",
       "<table border=\"1\" class=\"dataframe\">\n",
       "  <thead>\n",
       "    <tr style=\"text-align: right;\">\n",
       "      <th></th>\n",
       "      <th>index</th>\n",
       "      <th>U</th>\n",
       "      <th>V</th>\n",
       "      <th>W</th>\n",
       "      <th>X</th>\n",
       "      <th>Y</th>\n",
       "      <th>Z</th>\n",
       "    </tr>\n",
       "  </thead>\n",
       "  <tbody>\n",
       "    <tr>\n",
       "      <th>0</th>\n",
       "      <td>a</td>\n",
       "      <td>0.868811</td>\n",
       "      <td>0.875433</td>\n",
       "      <td>0.302712</td>\n",
       "      <td>0.788802</td>\n",
       "      <td>0.450121</td>\n",
       "      <td>0.930797</td>\n",
       "    </tr>\n",
       "    <tr>\n",
       "      <th>1</th>\n",
       "      <td>b</td>\n",
       "      <td>0.749854</td>\n",
       "      <td>0.326036</td>\n",
       "      <td>0.794761</td>\n",
       "      <td>0.072283</td>\n",
       "      <td>0.803659</td>\n",
       "      <td>0.957795</td>\n",
       "    </tr>\n",
       "    <tr>\n",
       "      <th>2</th>\n",
       "      <td>c</td>\n",
       "      <td>0.299344</td>\n",
       "      <td>0.716571</td>\n",
       "      <td>0.374422</td>\n",
       "      <td>0.141462</td>\n",
       "      <td>0.394826</td>\n",
       "      <td>0.550029</td>\n",
       "    </tr>\n",
       "    <tr>\n",
       "      <th>3</th>\n",
       "      <td>d</td>\n",
       "      <td>0.350101</td>\n",
       "      <td>0.524433</td>\n",
       "      <td>0.605084</td>\n",
       "      <td>0.311294</td>\n",
       "      <td>0.845480</td>\n",
       "      <td>0.599252</td>\n",
       "    </tr>\n",
       "    <tr>\n",
       "      <th>4</th>\n",
       "      <td>e</td>\n",
       "      <td>0.026075</td>\n",
       "      <td>0.838956</td>\n",
       "      <td>0.658043</td>\n",
       "      <td>0.024436</td>\n",
       "      <td>0.599507</td>\n",
       "      <td>0.281806</td>\n",
       "    </tr>\n",
       "  </tbody>\n",
       "</table>\n",
       "</div>"
      ],
      "text/plain": [
       "  index         U         V         W         X         Y         Z\n",
       "0     a  0.868811  0.875433  0.302712  0.788802  0.450121  0.930797\n",
       "1     b  0.749854  0.326036  0.794761  0.072283  0.803659  0.957795\n",
       "2     c  0.299344  0.716571  0.374422  0.141462  0.394826  0.550029\n",
       "3     d  0.350101  0.524433  0.605084  0.311294  0.845480  0.599252\n",
       "4     e  0.026075  0.838956  0.658043  0.024436  0.599507  0.281806"
      ]
     },
     "execution_count": 37,
     "metadata": {},
     "output_type": "execute_result"
    }
   ],
   "source": [
    "bet_kas.reset_index() \n",
    "#reset_index paverčia mūsų seną indeksą dar vienu stulpeliu, ir sukuria naują indeksą iš skaičių. Reikia naudoti inplace=True, jei norime pakeisti originalą.\n"
   ]
  },
  {
   "cell_type": "code",
   "execution_count": 38,
   "metadata": {},
   "outputs": [
    {
     "data": {
      "text/plain": [
       "['Vilnius', 'Kaunas', 'Klaipėda', 'Šiauliai', 'Panevėžys']"
      ]
     },
     "execution_count": 38,
     "metadata": {},
     "output_type": "execute_result"
    }
   ],
   "source": [
    "naujas_indeksas = 'Vilnius Kaunas Klaipėda Šiauliai Panevėžys'.split()\n",
    "naujas_indeksas"
   ]
  },
  {
   "cell_type": "code",
   "execution_count": 41,
   "metadata": {},
   "outputs": [
    {
     "data": {
      "text/html": [
       "<div>\n",
       "<style scoped>\n",
       "    .dataframe tbody tr th:only-of-type {\n",
       "        vertical-align: middle;\n",
       "    }\n",
       "\n",
       "    .dataframe tbody tr th {\n",
       "        vertical-align: top;\n",
       "    }\n",
       "\n",
       "    .dataframe thead th {\n",
       "        text-align: right;\n",
       "    }\n",
       "</style>\n",
       "<table border=\"1\" class=\"dataframe\">\n",
       "  <thead>\n",
       "    <tr style=\"text-align: right;\">\n",
       "      <th></th>\n",
       "      <th>U</th>\n",
       "      <th>V</th>\n",
       "      <th>W</th>\n",
       "      <th>X</th>\n",
       "      <th>Y</th>\n",
       "      <th>Z</th>\n",
       "      <th>Miestai</th>\n",
       "    </tr>\n",
       "  </thead>\n",
       "  <tbody>\n",
       "    <tr>\n",
       "      <th>a</th>\n",
       "      <td>0.868811</td>\n",
       "      <td>0.875433</td>\n",
       "      <td>0.302712</td>\n",
       "      <td>0.788802</td>\n",
       "      <td>0.450121</td>\n",
       "      <td>0.930797</td>\n",
       "      <td>Vilnius</td>\n",
       "    </tr>\n",
       "    <tr>\n",
       "      <th>b</th>\n",
       "      <td>0.749854</td>\n",
       "      <td>0.326036</td>\n",
       "      <td>0.794761</td>\n",
       "      <td>0.072283</td>\n",
       "      <td>0.803659</td>\n",
       "      <td>0.957795</td>\n",
       "      <td>Kaunas</td>\n",
       "    </tr>\n",
       "    <tr>\n",
       "      <th>c</th>\n",
       "      <td>0.299344</td>\n",
       "      <td>0.716571</td>\n",
       "      <td>0.374422</td>\n",
       "      <td>0.141462</td>\n",
       "      <td>0.394826</td>\n",
       "      <td>0.550029</td>\n",
       "      <td>Klaipėda</td>\n",
       "    </tr>\n",
       "    <tr>\n",
       "      <th>d</th>\n",
       "      <td>0.350101</td>\n",
       "      <td>0.524433</td>\n",
       "      <td>0.605084</td>\n",
       "      <td>0.311294</td>\n",
       "      <td>0.845480</td>\n",
       "      <td>0.599252</td>\n",
       "      <td>Šiauliai</td>\n",
       "    </tr>\n",
       "    <tr>\n",
       "      <th>e</th>\n",
       "      <td>0.026075</td>\n",
       "      <td>0.838956</td>\n",
       "      <td>0.658043</td>\n",
       "      <td>0.024436</td>\n",
       "      <td>0.599507</td>\n",
       "      <td>0.281806</td>\n",
       "      <td>Panevėžys</td>\n",
       "    </tr>\n",
       "  </tbody>\n",
       "</table>\n",
       "</div>"
      ],
      "text/plain": [
       "          U         V         W         X         Y         Z    Miestai\n",
       "a  0.868811  0.875433  0.302712  0.788802  0.450121  0.930797    Vilnius\n",
       "b  0.749854  0.326036  0.794761  0.072283  0.803659  0.957795     Kaunas\n",
       "c  0.299344  0.716571  0.374422  0.141462  0.394826  0.550029   Klaipėda\n",
       "d  0.350101  0.524433  0.605084  0.311294  0.845480  0.599252   Šiauliai\n",
       "e  0.026075  0.838956  0.658043  0.024436  0.599507  0.281806  Panevėžys"
      ]
     },
     "execution_count": 41,
     "metadata": {},
     "output_type": "execute_result"
    }
   ],
   "source": [
    "bet_kas[\"Miestai\"] = naujas_indeksas\n",
    "bet_kas"
   ]
  },
  {
   "cell_type": "code",
   "execution_count": 42,
   "metadata": {},
   "outputs": [
    {
     "data": {
      "text/html": [
       "<div>\n",
       "<style scoped>\n",
       "    .dataframe tbody tr th:only-of-type {\n",
       "        vertical-align: middle;\n",
       "    }\n",
       "\n",
       "    .dataframe tbody tr th {\n",
       "        vertical-align: top;\n",
       "    }\n",
       "\n",
       "    .dataframe thead th {\n",
       "        text-align: right;\n",
       "    }\n",
       "</style>\n",
       "<table border=\"1\" class=\"dataframe\">\n",
       "  <thead>\n",
       "    <tr style=\"text-align: right;\">\n",
       "      <th></th>\n",
       "      <th>U</th>\n",
       "      <th>V</th>\n",
       "      <th>W</th>\n",
       "      <th>X</th>\n",
       "      <th>Y</th>\n",
       "      <th>Z</th>\n",
       "    </tr>\n",
       "    <tr>\n",
       "      <th>Miestai</th>\n",
       "      <th></th>\n",
       "      <th></th>\n",
       "      <th></th>\n",
       "      <th></th>\n",
       "      <th></th>\n",
       "      <th></th>\n",
       "    </tr>\n",
       "  </thead>\n",
       "  <tbody>\n",
       "    <tr>\n",
       "      <th>Vilnius</th>\n",
       "      <td>0.868811</td>\n",
       "      <td>0.875433</td>\n",
       "      <td>0.302712</td>\n",
       "      <td>0.788802</td>\n",
       "      <td>0.450121</td>\n",
       "      <td>0.930797</td>\n",
       "    </tr>\n",
       "    <tr>\n",
       "      <th>Kaunas</th>\n",
       "      <td>0.749854</td>\n",
       "      <td>0.326036</td>\n",
       "      <td>0.794761</td>\n",
       "      <td>0.072283</td>\n",
       "      <td>0.803659</td>\n",
       "      <td>0.957795</td>\n",
       "    </tr>\n",
       "    <tr>\n",
       "      <th>Klaipėda</th>\n",
       "      <td>0.299344</td>\n",
       "      <td>0.716571</td>\n",
       "      <td>0.374422</td>\n",
       "      <td>0.141462</td>\n",
       "      <td>0.394826</td>\n",
       "      <td>0.550029</td>\n",
       "    </tr>\n",
       "    <tr>\n",
       "      <th>Šiauliai</th>\n",
       "      <td>0.350101</td>\n",
       "      <td>0.524433</td>\n",
       "      <td>0.605084</td>\n",
       "      <td>0.311294</td>\n",
       "      <td>0.845480</td>\n",
       "      <td>0.599252</td>\n",
       "    </tr>\n",
       "    <tr>\n",
       "      <th>Panevėžys</th>\n",
       "      <td>0.026075</td>\n",
       "      <td>0.838956</td>\n",
       "      <td>0.658043</td>\n",
       "      <td>0.024436</td>\n",
       "      <td>0.599507</td>\n",
       "      <td>0.281806</td>\n",
       "    </tr>\n",
       "  </tbody>\n",
       "</table>\n",
       "</div>"
      ],
      "text/plain": [
       "                  U         V         W         X         Y         Z\n",
       "Miestai                                                              \n",
       "Vilnius    0.868811  0.875433  0.302712  0.788802  0.450121  0.930797\n",
       "Kaunas     0.749854  0.326036  0.794761  0.072283  0.803659  0.957795\n",
       "Klaipėda   0.299344  0.716571  0.374422  0.141462  0.394826  0.550029\n",
       "Šiauliai   0.350101  0.524433  0.605084  0.311294  0.845480  0.599252\n",
       "Panevėžys  0.026075  0.838956  0.658043  0.024436  0.599507  0.281806"
      ]
     },
     "execution_count": 42,
     "metadata": {},
     "output_type": "execute_result"
    }
   ],
   "source": [
    "miestu_betkas = bet_kas.set_index('Miestai')\n",
    "miestu_betkas\n"
   ]
  },
  {
   "cell_type": "code",
   "execution_count": 69,
   "metadata": {},
   "outputs": [
    {
     "ename": "ValueError",
     "evalue": "Cannot specify both 'labels' and 'index'/'columns'",
     "output_type": "error",
     "traceback": [
      "\u001b[0;31m---------------------------------------------------------------------------\u001b[0m",
      "\u001b[0;31mValueError\u001b[0m                                Traceback (most recent call last)",
      "Cell \u001b[0;32mIn[69], line 1\u001b[0m\n\u001b[0;32m----> 1\u001b[0m bet_kas\u001b[39m.\u001b[39;49mdrop(\u001b[39m'\u001b[39;49m\u001b[39mmiestai\u001b[39;49m\u001b[39m'\u001b[39;49m, axis\u001b[39m=\u001b[39;49m\u001b[39m1\u001b[39;49m, index\u001b[39m=\u001b[39;49m\u001b[39mTrue\u001b[39;49;00m)\n",
      "File \u001b[0;32m~/Documents/ptu8/ptu8_data_science/venv/lib/python3.10/site-packages/pandas/util/_decorators.py:331\u001b[0m, in \u001b[0;36mdeprecate_nonkeyword_arguments.<locals>.decorate.<locals>.wrapper\u001b[0;34m(*args, **kwargs)\u001b[0m\n\u001b[1;32m    325\u001b[0m \u001b[39mif\u001b[39;00m \u001b[39mlen\u001b[39m(args) \u001b[39m>\u001b[39m num_allow_args:\n\u001b[1;32m    326\u001b[0m     warnings\u001b[39m.\u001b[39mwarn(\n\u001b[1;32m    327\u001b[0m         msg\u001b[39m.\u001b[39mformat(arguments\u001b[39m=\u001b[39m_format_argument_list(allow_args)),\n\u001b[1;32m    328\u001b[0m         \u001b[39mFutureWarning\u001b[39;00m,\n\u001b[1;32m    329\u001b[0m         stacklevel\u001b[39m=\u001b[39mfind_stack_level(),\n\u001b[1;32m    330\u001b[0m     )\n\u001b[0;32m--> 331\u001b[0m \u001b[39mreturn\u001b[39;00m func(\u001b[39m*\u001b[39;49margs, \u001b[39m*\u001b[39;49m\u001b[39m*\u001b[39;49mkwargs)\n",
      "File \u001b[0;32m~/Documents/ptu8/ptu8_data_science/venv/lib/python3.10/site-packages/pandas/core/frame.py:5399\u001b[0m, in \u001b[0;36mDataFrame.drop\u001b[0;34m(self, labels, axis, index, columns, level, inplace, errors)\u001b[0m\n\u001b[1;32m   5251\u001b[0m \u001b[39m@deprecate_nonkeyword_arguments\u001b[39m(version\u001b[39m=\u001b[39m\u001b[39mNone\u001b[39;00m, allowed_args\u001b[39m=\u001b[39m[\u001b[39m\"\u001b[39m\u001b[39mself\u001b[39m\u001b[39m\"\u001b[39m, \u001b[39m\"\u001b[39m\u001b[39mlabels\u001b[39m\u001b[39m\"\u001b[39m])\n\u001b[1;32m   5252\u001b[0m \u001b[39mdef\u001b[39;00m \u001b[39mdrop\u001b[39m(  \u001b[39m# type: ignore[override]\u001b[39;00m\n\u001b[1;32m   5253\u001b[0m     \u001b[39mself\u001b[39m,\n\u001b[0;32m   (...)\u001b[0m\n\u001b[1;32m   5260\u001b[0m     errors: IgnoreRaise \u001b[39m=\u001b[39m \u001b[39m\"\u001b[39m\u001b[39mraise\u001b[39m\u001b[39m\"\u001b[39m,\n\u001b[1;32m   5261\u001b[0m ) \u001b[39m-\u001b[39m\u001b[39m>\u001b[39m DataFrame \u001b[39m|\u001b[39m \u001b[39mNone\u001b[39;00m:\n\u001b[1;32m   5262\u001b[0m \u001b[39m    \u001b[39m\u001b[39m\"\"\"\u001b[39;00m\n\u001b[1;32m   5263\u001b[0m \u001b[39m    Drop specified labels from rows or columns.\u001b[39;00m\n\u001b[1;32m   5264\u001b[0m \n\u001b[0;32m   (...)\u001b[0m\n\u001b[1;32m   5397\u001b[0m \u001b[39m            weight  1.0     0.8\u001b[39;00m\n\u001b[1;32m   5398\u001b[0m \u001b[39m    \"\"\"\u001b[39;00m\n\u001b[0;32m-> 5399\u001b[0m     \u001b[39mreturn\u001b[39;00m \u001b[39msuper\u001b[39;49m()\u001b[39m.\u001b[39;49mdrop(\n\u001b[1;32m   5400\u001b[0m         labels\u001b[39m=\u001b[39;49mlabels,\n\u001b[1;32m   5401\u001b[0m         axis\u001b[39m=\u001b[39;49maxis,\n\u001b[1;32m   5402\u001b[0m         index\u001b[39m=\u001b[39;49mindex,\n\u001b[1;32m   5403\u001b[0m         columns\u001b[39m=\u001b[39;49mcolumns,\n\u001b[1;32m   5404\u001b[0m         level\u001b[39m=\u001b[39;49mlevel,\n\u001b[1;32m   5405\u001b[0m         inplace\u001b[39m=\u001b[39;49minplace,\n\u001b[1;32m   5406\u001b[0m         errors\u001b[39m=\u001b[39;49merrors,\n\u001b[1;32m   5407\u001b[0m     )\n",
      "File \u001b[0;32m~/Documents/ptu8/ptu8_data_science/venv/lib/python3.10/site-packages/pandas/util/_decorators.py:331\u001b[0m, in \u001b[0;36mdeprecate_nonkeyword_arguments.<locals>.decorate.<locals>.wrapper\u001b[0;34m(*args, **kwargs)\u001b[0m\n\u001b[1;32m    325\u001b[0m \u001b[39mif\u001b[39;00m \u001b[39mlen\u001b[39m(args) \u001b[39m>\u001b[39m num_allow_args:\n\u001b[1;32m    326\u001b[0m     warnings\u001b[39m.\u001b[39mwarn(\n\u001b[1;32m    327\u001b[0m         msg\u001b[39m.\u001b[39mformat(arguments\u001b[39m=\u001b[39m_format_argument_list(allow_args)),\n\u001b[1;32m    328\u001b[0m         \u001b[39mFutureWarning\u001b[39;00m,\n\u001b[1;32m    329\u001b[0m         stacklevel\u001b[39m=\u001b[39mfind_stack_level(),\n\u001b[1;32m    330\u001b[0m     )\n\u001b[0;32m--> 331\u001b[0m \u001b[39mreturn\u001b[39;00m func(\u001b[39m*\u001b[39;49margs, \u001b[39m*\u001b[39;49m\u001b[39m*\u001b[39;49mkwargs)\n",
      "File \u001b[0;32m~/Documents/ptu8/ptu8_data_science/venv/lib/python3.10/site-packages/pandas/core/generic.py:4491\u001b[0m, in \u001b[0;36mNDFrame.drop\u001b[0;34m(self, labels, axis, index, columns, level, inplace, errors)\u001b[0m\n\u001b[1;32m   4489\u001b[0m \u001b[39mif\u001b[39;00m labels \u001b[39mis\u001b[39;00m \u001b[39mnot\u001b[39;00m \u001b[39mNone\u001b[39;00m:\n\u001b[1;32m   4490\u001b[0m     \u001b[39mif\u001b[39;00m index \u001b[39mis\u001b[39;00m \u001b[39mnot\u001b[39;00m \u001b[39mNone\u001b[39;00m \u001b[39mor\u001b[39;00m columns \u001b[39mis\u001b[39;00m \u001b[39mnot\u001b[39;00m \u001b[39mNone\u001b[39;00m:\n\u001b[0;32m-> 4491\u001b[0m         \u001b[39mraise\u001b[39;00m \u001b[39mValueError\u001b[39;00m(\u001b[39m\"\u001b[39m\u001b[39mCannot specify both \u001b[39m\u001b[39m'\u001b[39m\u001b[39mlabels\u001b[39m\u001b[39m'\u001b[39m\u001b[39m and \u001b[39m\u001b[39m'\u001b[39m\u001b[39mindex\u001b[39m\u001b[39m'\u001b[39m\u001b[39m/\u001b[39m\u001b[39m'\u001b[39m\u001b[39mcolumns\u001b[39m\u001b[39m'\u001b[39m\u001b[39m\"\u001b[39m)\n\u001b[1;32m   4492\u001b[0m     axis_name \u001b[39m=\u001b[39m \u001b[39mself\u001b[39m\u001b[39m.\u001b[39m_get_axis_name(axis)\n\u001b[1;32m   4493\u001b[0m     axes \u001b[39m=\u001b[39m {axis_name: labels}\n",
      "\u001b[0;31mValueError\u001b[0m: Cannot specify both 'labels' and 'index'/'columns'"
     ]
    }
   ],
   "source": [
    "bet_kas.drop('Miestai', axis=1, index=True)"
   ]
  }
 ],
 "metadata": {
  "kernelspec": {
   "display_name": "venv",
   "language": "python",
   "name": "python3"
  },
  "language_info": {
   "codemirror_mode": {
    "name": "ipython",
    "version": 3
   },
   "file_extension": ".py",
   "mimetype": "text/x-python",
   "name": "python",
   "nbconvert_exporter": "python",
   "pygments_lexer": "ipython3",
   "version": "3.10.9"
  },
  "orig_nbformat": 4,
  "vscode": {
   "interpreter": {
    "hash": "7e8bf071ea3a9b758fdddc0fc2a7f54b74422ff0a0ef762d029d6dfa9be4616a"
   }
  }
 },
 "nbformat": 4,
 "nbformat_minor": 2
}
