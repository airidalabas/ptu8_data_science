{
 "cells": [
  {
   "cell_type": "code",
   "execution_count": 2,
   "metadata": {},
   "outputs": [],
   "source": [
    "import re"
   ]
  },
  {
   "attachments": {},
   "cell_type": "markdown",
   "metadata": {},
   "source": [
    "##regex python"
   ]
  },
  {
   "cell_type": "code",
   "execution_count": 3,
   "metadata": {},
   "outputs": [],
   "source": [
    "tel_nr_filtas = re.compile(r'\\+370\\s\\d{3}\\s\\d{5}') #regeksui naudojame ne f stringa o r stringa"
   ]
  },
  {
   "cell_type": "code",
   "execution_count": 5,
   "metadata": {},
   "outputs": [],
   "source": [
    "tekstas = '''Pirmas telefono numeris yra +370 123 12321, antras +370 321 10101.'''"
   ]
  },
  {
   "cell_type": "code",
   "execution_count": 9,
   "metadata": {},
   "outputs": [
    {
     "data": {
      "text/plain": [
       "<re.Match object; span=(28, 42), match='+370 123 12321'>"
      ]
     },
     "execution_count": 9,
     "metadata": {},
     "output_type": "execute_result"
    }
   ],
   "source": [
    "rastas_vienas = tel_nr_filtas.search(tekstas)\n",
    "rastas_vienas"
   ]
  },
  {
   "cell_type": "code",
   "execution_count": 10,
   "metadata": {},
   "outputs": [
    {
     "data": {
      "text/plain": [
       "'+370 123 12321'"
      ]
     },
     "execution_count": 10,
     "metadata": {},
     "output_type": "execute_result"
    }
   ],
   "source": [
    "rastas_vienas.group()"
   ]
  },
  {
   "cell_type": "code",
   "execution_count": 66,
   "metadata": {},
   "outputs": [
    {
     "data": {
      "text/plain": [
       "[]"
      ]
     },
     "execution_count": 66,
     "metadata": {},
     "output_type": "execute_result"
    }
   ],
   "source": [
    "rasti_visi = tel_nr_filtas.findall(tekstas)\n",
    "rasti_visi"
   ]
  },
  {
   "cell_type": "code",
   "execution_count": 12,
   "metadata": {},
   "outputs": [
    {
     "name": "stdout",
     "output_type": "stream",
     "text": [
      "True\n",
      "False\n"
     ]
    }
   ],
   "source": [
    "def validate_email(input):\n",
    "    email_regex = re.compile(r'^[a-zA-Z0-9._%-]+@[a-zA-Z0-9.-]+\\.[a-zA-Z]{2,6}$')\n",
    "    result = email_regex.search(input)\n",
    "    if result:\n",
    "        return True\n",
    "    return False\n",
    "\n",
    "print(validate_email('kazkoks@email.lt'))\n",
    "print(validate_email('neteisingas@@email.lt'))"
   ]
  },
  {
   "cell_type": "code",
   "execution_count": 65,
   "metadata": {},
   "outputs": [
    {
     "data": {
      "text/plain": [
       "True"
      ]
     },
     "execution_count": 65,
     "metadata": {},
     "output_type": "execute_result"
    }
   ],
   "source": [
    "validate_email(\"kestas@middonow.fi\")"
   ]
  },
  {
   "cell_type": "code",
   "execution_count": 14,
   "metadata": {},
   "outputs": [
    {
     "data": {
      "text/plain": [
       "True"
      ]
     },
     "execution_count": 14,
     "metadata": {},
     "output_type": "execute_result"
    }
   ],
   "source": [
    "validate_email('studentai@codeacademylt.onmicrosoft.com')"
   ]
  },
  {
   "attachments": {},
   "cell_type": "markdown",
   "metadata": {},
   "source": [
    "#grupavimas"
   ]
  },
  {
   "cell_type": "code",
   "execution_count": 15,
   "metadata": {},
   "outputs": [
    {
     "data": {
      "text/plain": [
       "['Mr.', 'Kestutis', 'Januskevicius']"
      ]
     },
     "execution_count": 15,
     "metadata": {},
     "output_type": "execute_result"
    }
   ],
   "source": [
    "name = 'Mr. Kestutis Januskevicius'\n",
    "vardai = name.split()\n",
    "vardai"
   ]
  },
  {
   "cell_type": "code",
   "execution_count": 19,
   "metadata": {},
   "outputs": [],
   "source": [
    "def split_names(name):\n",
    "    name_filter = re.compile(r'^([A-Z]\\w*\\.)\\s([A-Z]\\w+)\\s([A-Z]\\w+)$')\n",
    "    filter_result = name_filter.search(name)\n",
    "    if filter_result:\n",
    "        print(f'Visa eilutė: {filter_result.group(0)}') #tas pats kas group be nieko\n",
    "        print(f'Kreipinys: {filter_result.group(1)}')\n",
    "        print(f'Vardas: {filter_result.group(2)}')\n",
    "        print(f'Pavardė: {filter_result.group(3)}')\n",
    "        print('----------------------------------')\n",
    "        print(f'Str rezultatas; {filter_result.group()}') #grupes sudetos i regex koda skliaustuose\n",
    "        print(f'Visos grupes: {filter_result.groups()}') #spausdina rezultata kaip sarasa, atskiromis grupemis\n",
    "    else:\n",
    "        print('Įvestis neatitinka šablono')\n",
    "\n",
    "#split_names('Mr. Clint Eastwood')"
   ]
  },
  {
   "cell_type": "code",
   "execution_count": 20,
   "metadata": {},
   "outputs": [
    {
     "name": "stdout",
     "output_type": "stream",
     "text": [
      "Visa eilutė: Mr. Kestutis Januskevicius\n",
      "Kreipinys: Mr.\n",
      "Vardas: Kestutis\n",
      "Pavardė: Januskevicius\n",
      "----------------------------------\n",
      "Tiesiog rezultatas; Mr. Kestutis Januskevicius\n",
      "Visos grupes: ('Mr.', 'Kestutis', 'Januskevicius')\n"
     ]
    }
   ],
   "source": [
    "split_names(name)"
   ]
  },
  {
   "cell_type": "code",
   "execution_count": 61,
   "metadata": {},
   "outputs": [],
   "source": [
    "def get_title(name):\n",
    "    name_filter = re.compile(r'^(?P<title>[A-Z]\\w*\\.)\\s(?P<first_name>[A-Z]\\w+)\\s(?P<last_name>[A-Z]\\w+)$')\n",
    "    filter_result = name_filter.search(name)\n",
    "    if filter_result:\n",
    "        return filter_result.group('title'), filter_result.group('first_name'), filter_result.group('last_name')"
   ]
  },
  {
   "cell_type": "code",
   "execution_count": 63,
   "metadata": {},
   "outputs": [
    {
     "data": {
      "text/plain": [
       "('Mrs.', 'Airida', 'Slamsuole')"
      ]
     },
     "execution_count": 63,
     "metadata": {},
     "output_type": "execute_result"
    }
   ],
   "source": [
    "get_title('Mrs. Airida Slamsuole')"
   ]
  },
  {
   "attachments": {},
   "cell_type": "markdown",
   "metadata": {},
   "source": [
    "#sub()"
   ]
  },
  {
   "cell_type": "code",
   "execution_count": 40,
   "metadata": {},
   "outputs": [],
   "source": [
    "def mask_last_name(name):\n",
    "    name_filter = re.compile(r'^(?P<title>[A-Z]\\w*\\.)\\s(?P<first_name>[A-Z]\\w+)\\s(?P<last_name>[A-Z]\\w+)$')\n",
    "    filter_result = name_filter.search(name)\n",
    "    if filter_result:\n",
    "        return name_filter.sub(r'title: \\g<title>, name:\\g<first_name>, last name: ******', name)"
   ]
  },
  {
   "cell_type": "code",
   "execution_count": 41,
   "metadata": {},
   "outputs": [
    {
     "data": {
      "text/plain": [
       "'title: Ms., name:Egle, last name: ******'"
      ]
     },
     "execution_count": 41,
     "metadata": {},
     "output_type": "execute_result"
    }
   ],
   "source": [
    "mask_last_name(\"Ms. Egle Slapuke\")"
   ]
  },
  {
   "cell_type": "code",
   "execution_count": 45,
   "metadata": {},
   "outputs": [
    {
     "name": "stdout",
     "output_type": "stream",
     "text": [
      "Trumpas tesktas tekstas \t bet ka IR belenkaip, \n",
      "ir apie nieka\n"
     ]
    }
   ],
   "source": [
    "tekstas = \"Trumpas tesktas tekstas \\t bet ka IR belenkaip, \\nir apie nieka\"\n",
    "print(tekstas)"
   ]
  },
  {
   "attachments": {},
   "cell_type": "markdown",
   "metadata": {},
   "source": [
    "###flag"
   ]
  },
  {
   "cell_type": "code",
   "execution_count": 46,
   "metadata": {},
   "outputs": [
    {
     "data": {
      "text/plain": [
       "['IR', 'ir']"
      ]
     },
     "execution_count": 46,
     "metadata": {},
     "output_type": "execute_result"
    }
   ],
   "source": [
    "wors_filter = re.compile(r'\\bir\\b', re.IGNORECASE) #\\b \\b zodzio pradzia ir pabaiga, ignorecases nekreipia demesio i mazas ir didziasias\n",
    "found = wors_filter.findall(tekstas)\n",
    "found"
   ]
  },
  {
   "cell_type": "code",
   "execution_count": 64,
   "metadata": {},
   "outputs": [
    {
     "name": "stdout",
     "output_type": "stream",
     "text": [
      "['Trumpas']\n",
      "['Trumpas', 'ir']\n"
     ]
    }
   ],
   "source": [
    "words_in_line_filter = re.compile(r'^\\w+')\n",
    "words_in_lines_filter = re.compile(r'^\\w+', re.MULTILINE)\n",
    "\n",
    "found_1 = words_in_line_filter.findall(tekstas)\n",
    "found_all = words_in_lines_filter.findall(tekstas)\n",
    "\n",
    "print(found_1)\n",
    "print(found_all)\n"
   ]
  },
  {
   "cell_type": "code",
   "execution_count": 54,
   "metadata": {},
   "outputs": [
    {
     "name": "stdout",
     "output_type": "stream",
     "text": [
      "Regex Marter\n"
     ]
    }
   ],
   "source": [
    "name_filter = re.compile(r'''\n",
    "^                               #eilute pradzia\n",
    "(?P<title>[A-Z]\\w*\\.)           #kreipinio grupe\n",
    "\\s                              #tarpas\n",
    "(?P<first_name>[A-Z]\\w+)        #vardo grupe\n",
    "\\s                              #tarpas\n",
    "(?P<last_name>[A-Z]\\w+)         #pavardes grupe\n",
    "$''', re.VERBOSE | re.IGNORECASE)\n",
    "\n",
    "result = name_filter.search(\"Dr. Regex Marter\")\n",
    "print(result.group(\"first_name\"), result.group('last_name'))"
   ]
  }
 ],
 "metadata": {
  "kernelspec": {
   "display_name": "venv",
   "language": "python",
   "name": "python3"
  },
  "language_info": {
   "codemirror_mode": {
    "name": "ipython",
    "version": 3
   },
   "file_extension": ".py",
   "mimetype": "text/x-python",
   "name": "python",
   "nbconvert_exporter": "python",
   "pygments_lexer": "ipython3",
   "version": "3.10.9"
  },
  "orig_nbformat": 4,
  "vscode": {
   "interpreter": {
    "hash": "7e8bf071ea3a9b758fdddc0fc2a7f54b74422ff0a0ef762d029d6dfa9be4616a"
   }
  }
 },
 "nbformat": 4,
 "nbformat_minor": 2
}
