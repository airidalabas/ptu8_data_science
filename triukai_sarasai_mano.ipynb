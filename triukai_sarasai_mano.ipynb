{
 "cells": [
  {
   "attachments": {},
   "cell_type": "markdown",
   "metadata": {},
   "source": [
    "###lambda"
   ]
  },
  {
   "cell_type": "code",
   "execution_count": 1,
   "metadata": {},
   "outputs": [
    {
     "data": {
      "text/plain": [
       "[4, 3, 2, 1]"
      ]
     },
     "execution_count": 1,
     "metadata": {},
     "output_type": "execute_result"
    }
   ],
   "source": [
    "sarasas = [4, 3, 2, 1]\n",
    "sarasas"
   ]
  },
  {
   "cell_type": "code",
   "execution_count": 3,
   "metadata": {},
   "outputs": [],
   "source": [
    "\n",
    "sarasas_kvadratu = []\n",
    "for skaicius in sarasas:\n",
    "    sarasas_kvadratu.append(skaicius ** 2)\n",
    "sarasas_kvadratu"
   ]
  },
  {
   "cell_type": "code",
   "execution_count": 4,
   "metadata": {},
   "outputs": [
    {
     "data": {
      "text/plain": [
       "[4, 3, 2, 1]"
      ]
     },
     "execution_count": 4,
     "metadata": {},
     "output_type": "execute_result"
    }
   ],
   "source": [
    "def kvadratu(skaicius):\n",
    "    return skaicius\n",
    "\n",
    "alt_kvadratu = map(kvadratu, sarasas) #map bet kokia fukcija pritaiko sarasui\n",
    "list(alt_kvadratu)\n",
    "\n"
   ]
  },
  {
   "cell_type": "code",
   "execution_count": 6,
   "metadata": {},
   "outputs": [
    {
     "data": {
      "text/plain": [
       "[16, 9, 4, 1]"
      ]
     },
     "execution_count": 6,
     "metadata": {},
     "output_type": "execute_result"
    }
   ],
   "source": [
    "lambda_kvadratu = map(lambda skaicius: skaicius ** 2, sarasas) #lamda anonimine funcija - funcijos turinys neegzistuoja, bet perpanaudoti negalima\n",
    "list(lambda_kvadratu) #grazina rezultata kaip sarasa"
   ]
  },
  {
   "cell_type": "code",
   "execution_count": 5,
   "metadata": {},
   "outputs": [
    {
     "data": {
      "text/plain": [
       "datetime.date(2023, 1, 31)"
      ]
     },
     "execution_count": 5,
     "metadata": {},
     "output_type": "execute_result"
    }
   ],
   "source": [
    "from datetime import date\n",
    "ivesta_data = \"2023-01-31\"\n",
    "metai, menuo, diena = map(int, ivesta_data.split('-')) #is datos padarome sarasa\n",
    "tikra_data = date(metai, menuo, diena)\n",
    "tikra_data\n"
   ]
  },
  {
   "attachments": {},
   "cell_type": "markdown",
   "metadata": {},
   "source": [
    "##filter"
   ]
  },
  {
   "cell_type": "code",
   "execution_count": 14,
   "metadata": {},
   "outputs": [
    {
     "name": "stdout",
     "output_type": "stream",
     "text": [
      "[4, 3]\n"
     ]
    }
   ],
   "source": [
    "sarasas = [4, 3, 2, 1]\n",
    "\n",
    "def daugiau_nei_2(sarasas):\n",
    "    sarasas_2 = []\n",
    "    for skaicius in sarasas:\n",
    "        if skaicius > 2:\n",
    "            sarasas_2.append(skaicius)\n",
    "    return sarasas_2\n",
    "\n",
    "print(daugiau_nei_2(sarasas))"
   ]
  },
  {
   "cell_type": "code",
   "execution_count": 15,
   "metadata": {},
   "outputs": [
    {
     "name": "stdout",
     "output_type": "stream",
     "text": [
      "[4, 3]\n"
     ]
    }
   ],
   "source": [
    "sarasas = [4, 3, 2, 1]\n",
    "naujas = filter(lambda x: x > 2, sarasas)\n",
    "print(list(naujas))"
   ]
  },
  {
   "cell_type": "code",
   "execution_count": 9,
   "metadata": {},
   "outputs": [
    {
     "data": {
      "text/plain": [
       "[2, 4, 6, 8, 10, 12, 14, 16, 18]"
      ]
     },
     "execution_count": 9,
     "metadata": {},
     "output_type": "execute_result"
    }
   ],
   "source": [
    "aibe = list(range(1, 20))\n",
    "lyginiai = filter(lambda skaicius: skaicius % 2 == 0, aibe)\n",
    "list(lyginiai)"
   ]
  },
  {
   "cell_type": "code",
   "execution_count": 10,
   "metadata": {},
   "outputs": [
    {
     "name": "stdout",
     "output_type": "stream",
     "text": [
      "[1904, 1908, 1912, 1916, 1920, 1924, 1928, 1932, 1936, 1940, 1944, 1948, 1952, 1956, 1960, 1964, 1968, 1972, 1976, 1980, 1984, 1988, 1992, 1996, 2000, 2004, 2008, 2012, 2016, 2020, 2024, 2028, 2032, 2036, 2040, 2044, 2048, 2052, 2056, 2060, 2064, 2068, 2072, 2076, 2080, 2084, 2088, 2092, 2096, 2104, 2108, 2112, 2116, 2120, 2124, 2128, 2132, 2136, 2140, 2144, 2148]\n"
     ]
    }
   ],
   "source": [
    "import calendar\n",
    "\n",
    "metai = list(range(1900, 2150))\n",
    "naujas = list(filter(calendar.isleap, metai))\n",
    "print(naujas)"
   ]
  },
  {
   "cell_type": "code",
   "execution_count": 18,
   "metadata": {},
   "outputs": [
    {
     "ename": "SyntaxError",
     "evalue": "Missing parentheses in call to 'print'. Did you mean print(...)? (4048164766.py, line 3)",
     "output_type": "error",
     "traceback": [
      "\u001b[0;36m  Cell \u001b[0;32mIn[18], line 3\u001b[0;36m\u001b[0m\n\u001b[0;31m    print[5, 6] + sarasas\u001b[0m\n\u001b[0m    ^\u001b[0m\n\u001b[0;31mSyntaxError\u001b[0m\u001b[0;31m:\u001b[0m Missing parentheses in call to 'print'. Did you mean print(...)?\n"
     ]
    }
   ],
   "source": [
    "#reduce\n",
    "from functools import reduce\n",
    "print[5, 6] + sarasas\n",
    "suma = reduce(lambda pirmas, antras: pirmas + antras,[5, 6] sarasas)\n",
    "print(suma)"
   ]
  },
  {
   "cell_type": "code",
   "execution_count": 20,
   "metadata": {},
   "outputs": [
    {
     "name": "stdout",
     "output_type": "stream",
     "text": [
      "1.8571428571428572\n"
     ]
    }
   ],
   "source": [
    "from statistics import mean, median\n",
    "print(mean(sarasas + [1, 1, 1]))  #vidurkis"
   ]
  },
  {
   "cell_type": "code",
   "execution_count": null,
   "metadata": {},
   "outputs": [],
   "source": [
    "#saraso apibrezimas (list comprehension)"
   ]
  },
  {
   "cell_type": "code",
   "execution_count": 21,
   "metadata": {},
   "outputs": [
    {
     "data": {
      "text/plain": [
       "[16, 9, 4, 1]"
      ]
     },
     "execution_count": 21,
     "metadata": {},
     "output_type": "execute_result"
    }
   ],
   "source": [
    "s_kvadratu = [skaicius ** 2 for skaicius in sarasas] #ciklas sarase\n",
    "s_kvadratu"
   ]
  },
  {
   "cell_type": "code",
   "execution_count": 22,
   "metadata": {},
   "outputs": [
    {
     "data": {
      "text/plain": [
       "[4, 3]"
      ]
     },
     "execution_count": 22,
     "metadata": {},
     "output_type": "execute_result"
    }
   ],
   "source": [
    "#salyga sarase\n",
    "f_d_uz_du = [skaicius for skaicius in sarasas if skaicius > 2]\n",
    "f_d_uz_du"
   ]
  },
  {
   "cell_type": "code",
   "execution_count": 24,
   "metadata": {},
   "outputs": [
    {
     "data": {
      "text/plain": [
       "[-1000000,\n",
       " -999998,\n",
       " -999996,\n",
       " -999994,\n",
       " -999992,\n",
       " -999990,\n",
       " -999988,\n",
       " -999986,\n",
       " -999984,\n",
       " -999982,\n",
       " -999980,\n",
       " -999978,\n",
       " -999976,\n",
       " -999974,\n",
       " -999972,\n",
       " -999970,\n",
       " -999968,\n",
       " -999966,\n",
       " -999964,\n",
       " -999962,\n",
       " -999960,\n",
       " -999958,\n",
       " -999956,\n",
       " -999954,\n",
       " -999952,\n",
       " -999950,\n",
       " -999948,\n",
       " -999946,\n",
       " -999944,\n",
       " -999942,\n",
       " -999940,\n",
       " -999938,\n",
       " -999936,\n",
       " -999934,\n",
       " -999932,\n",
       " -999930,\n",
       " -999928,\n",
       " -999926,\n",
       " -999924,\n",
       " -999922,\n",
       " -999920,\n",
       " -999918,\n",
       " -999916,\n",
       " -999914,\n",
       " -999912,\n",
       " -999910,\n",
       " -999908,\n",
       " -999906,\n",
       " -999904,\n",
       " -999902,\n",
       " -999900,\n",
       " -999898,\n",
       " -999896,\n",
       " -999894,\n",
       " -999892,\n",
       " -999890,\n",
       " -999888,\n",
       " -999886,\n",
       " -999884,\n",
       " -999882,\n",
       " -999880,\n",
       " -999878,\n",
       " -999876,\n",
       " -999874,\n",
       " -999872,\n",
       " -999870,\n",
       " -999868,\n",
       " -999866,\n",
       " -999864,\n",
       " -999862,\n",
       " -999860,\n",
       " -999858,\n",
       " -999856,\n",
       " -999854,\n",
       " -999852,\n",
       " -999850,\n",
       " -999848,\n",
       " -999846,\n",
       " -999844,\n",
       " -999842,\n",
       " -999840,\n",
       " -999838,\n",
       " -999836,\n",
       " -999834,\n",
       " -999832,\n",
       " -999830,\n",
       " -999828,\n",
       " -999826,\n",
       " -999824,\n",
       " -999822,\n",
       " -999820,\n",
       " -999818,\n",
       " -999816,\n",
       " -999814,\n",
       " -999812,\n",
       " -999810,\n",
       " -999808,\n",
       " -999806,\n",
       " -999804,\n",
       " -999802,\n",
       " -999800,\n",
       " -999798,\n",
       " -999796,\n",
       " -999794,\n",
       " -999792,\n",
       " -999790,\n",
       " -999788,\n",
       " -999786,\n",
       " -999784,\n",
       " -999782,\n",
       " -999780,\n",
       " -999778,\n",
       " -999776,\n",
       " -999774,\n",
       " -999772,\n",
       " -999770,\n",
       " -999768,\n",
       " -999766,\n",
       " -999764,\n",
       " -999762,\n",
       " -999760,\n",
       " -999758,\n",
       " -999756,\n",
       " -999754,\n",
       " -999752,\n",
       " -999750,\n",
       " -999748,\n",
       " -999746,\n",
       " -999744,\n",
       " -999742,\n",
       " -999740,\n",
       " -999738,\n",
       " -999736,\n",
       " -999734,\n",
       " -999732,\n",
       " -999730,\n",
       " -999728,\n",
       " -999726,\n",
       " -999724,\n",
       " -999722,\n",
       " -999720,\n",
       " -999718,\n",
       " -999716,\n",
       " -999714,\n",
       " -999712,\n",
       " -999710,\n",
       " -999708,\n",
       " -999706,\n",
       " -999704,\n",
       " -999702,\n",
       " -999700,\n",
       " -999698,\n",
       " -999696,\n",
       " -999694,\n",
       " -999692,\n",
       " -999690,\n",
       " -999688,\n",
       " -999686,\n",
       " -999684,\n",
       " -999682,\n",
       " -999680,\n",
       " -999678,\n",
       " -999676,\n",
       " -999674,\n",
       " -999672,\n",
       " -999670,\n",
       " -999668,\n",
       " -999666,\n",
       " -999664,\n",
       " -999662,\n",
       " -999660,\n",
       " -999658,\n",
       " -999656,\n",
       " -999654,\n",
       " -999652,\n",
       " -999650,\n",
       " -999648,\n",
       " -999646,\n",
       " -999644,\n",
       " -999642,\n",
       " -999640,\n",
       " -999638,\n",
       " -999636,\n",
       " -999634,\n",
       " -999632,\n",
       " -999630,\n",
       " -999628,\n",
       " -999626,\n",
       " -999624,\n",
       " -999622,\n",
       " -999620,\n",
       " -999618,\n",
       " -999616,\n",
       " -999614,\n",
       " -999612,\n",
       " -999610,\n",
       " -999608,\n",
       " -999606,\n",
       " -999604,\n",
       " -999602,\n",
       " -999600,\n",
       " -999598,\n",
       " -999596,\n",
       " -999594,\n",
       " -999592,\n",
       " -999590,\n",
       " -999588,\n",
       " -999586,\n",
       " -999584,\n",
       " -999582,\n",
       " -999580,\n",
       " -999578,\n",
       " -999576,\n",
       " -999574,\n",
       " -999572,\n",
       " -999570,\n",
       " -999568,\n",
       " -999566,\n",
       " -999564,\n",
       " -999562,\n",
       " -999560,\n",
       " -999558,\n",
       " -999556,\n",
       " -999554,\n",
       " -999552,\n",
       " -999550,\n",
       " -999548,\n",
       " -999546,\n",
       " -999544,\n",
       " -999542,\n",
       " -999540,\n",
       " -999538,\n",
       " -999536,\n",
       " -999534,\n",
       " -999532,\n",
       " -999530,\n",
       " -999528,\n",
       " -999526,\n",
       " -999524,\n",
       " -999522,\n",
       " -999520,\n",
       " -999518,\n",
       " -999516,\n",
       " -999514,\n",
       " -999512,\n",
       " -999510,\n",
       " -999508,\n",
       " -999506,\n",
       " -999504,\n",
       " -999502,\n",
       " -999500,\n",
       " -999498,\n",
       " -999496,\n",
       " -999494,\n",
       " -999492,\n",
       " -999490,\n",
       " -999488,\n",
       " -999486,\n",
       " -999484,\n",
       " -999482,\n",
       " -999480,\n",
       " -999478,\n",
       " -999476,\n",
       " -999474,\n",
       " -999472,\n",
       " -999470,\n",
       " -999468,\n",
       " -999466,\n",
       " -999464,\n",
       " -999462,\n",
       " -999460,\n",
       " -999458,\n",
       " -999456,\n",
       " -999454,\n",
       " -999452,\n",
       " -999450,\n",
       " -999448,\n",
       " -999446,\n",
       " -999444,\n",
       " -999442,\n",
       " -999440,\n",
       " -999438,\n",
       " -999436,\n",
       " -999434,\n",
       " -999432,\n",
       " -999430,\n",
       " -999428,\n",
       " -999426,\n",
       " -999424,\n",
       " -999422,\n",
       " -999420,\n",
       " -999418,\n",
       " -999416,\n",
       " -999414,\n",
       " -999412,\n",
       " -999410,\n",
       " -999408,\n",
       " -999406,\n",
       " -999404,\n",
       " -999402,\n",
       " -999400,\n",
       " -999398,\n",
       " -999396,\n",
       " -999394,\n",
       " -999392,\n",
       " -999390,\n",
       " -999388,\n",
       " -999386,\n",
       " -999384,\n",
       " -999382,\n",
       " -999380,\n",
       " -999378,\n",
       " -999376,\n",
       " -999374,\n",
       " -999372,\n",
       " -999370,\n",
       " -999368,\n",
       " -999366,\n",
       " -999364,\n",
       " -999362,\n",
       " -999360,\n",
       " -999358,\n",
       " -999356,\n",
       " -999354,\n",
       " -999352,\n",
       " -999350,\n",
       " -999348,\n",
       " -999346,\n",
       " -999344,\n",
       " -999342,\n",
       " -999340,\n",
       " -999338,\n",
       " -999336,\n",
       " -999334,\n",
       " -999332,\n",
       " -999330,\n",
       " -999328,\n",
       " -999326,\n",
       " -999324,\n",
       " -999322,\n",
       " -999320,\n",
       " -999318,\n",
       " -999316,\n",
       " -999314,\n",
       " -999312,\n",
       " -999310,\n",
       " -999308,\n",
       " -999306,\n",
       " -999304,\n",
       " -999302,\n",
       " -999300,\n",
       " -999298,\n",
       " -999296,\n",
       " -999294,\n",
       " -999292,\n",
       " -999290,\n",
       " -999288,\n",
       " -999286,\n",
       " -999284,\n",
       " -999282,\n",
       " -999280,\n",
       " -999278,\n",
       " -999276,\n",
       " -999274,\n",
       " -999272,\n",
       " -999270,\n",
       " -999268,\n",
       " -999266,\n",
       " -999264,\n",
       " -999262,\n",
       " -999260,\n",
       " -999258,\n",
       " -999256,\n",
       " -999254,\n",
       " -999252,\n",
       " -999250,\n",
       " -999248,\n",
       " -999246,\n",
       " -999244,\n",
       " -999242,\n",
       " -999240,\n",
       " -999238,\n",
       " -999236,\n",
       " -999234,\n",
       " -999232,\n",
       " -999230,\n",
       " -999228,\n",
       " -999226,\n",
       " -999224,\n",
       " -999222,\n",
       " -999220,\n",
       " -999218,\n",
       " -999216,\n",
       " -999214,\n",
       " -999212,\n",
       " -999210,\n",
       " -999208,\n",
       " -999206,\n",
       " -999204,\n",
       " -999202,\n",
       " -999200,\n",
       " -999198,\n",
       " -999196,\n",
       " -999194,\n",
       " -999192,\n",
       " -999190,\n",
       " -999188,\n",
       " -999186,\n",
       " -999184,\n",
       " -999182,\n",
       " -999180,\n",
       " -999178,\n",
       " -999176,\n",
       " -999174,\n",
       " -999172,\n",
       " -999170,\n",
       " -999168,\n",
       " -999166,\n",
       " -999164,\n",
       " -999162,\n",
       " -999160,\n",
       " -999158,\n",
       " -999156,\n",
       " -999154,\n",
       " -999152,\n",
       " -999150,\n",
       " -999148,\n",
       " -999146,\n",
       " -999144,\n",
       " -999142,\n",
       " -999140,\n",
       " -999138,\n",
       " -999136,\n",
       " -999134,\n",
       " -999132,\n",
       " -999130,\n",
       " -999128,\n",
       " -999126,\n",
       " -999124,\n",
       " -999122,\n",
       " -999120,\n",
       " -999118,\n",
       " -999116,\n",
       " -999114,\n",
       " -999112,\n",
       " -999110,\n",
       " -999108,\n",
       " -999106,\n",
       " -999104,\n",
       " -999102,\n",
       " -999100,\n",
       " -999098,\n",
       " -999096,\n",
       " -999094,\n",
       " -999092,\n",
       " -999090,\n",
       " -999088,\n",
       " -999086,\n",
       " -999084,\n",
       " -999082,\n",
       " -999080,\n",
       " -999078,\n",
       " -999076,\n",
       " -999074,\n",
       " -999072,\n",
       " -999070,\n",
       " -999068,\n",
       " -999066,\n",
       " -999064,\n",
       " -999062,\n",
       " -999060,\n",
       " -999058,\n",
       " -999056,\n",
       " -999054,\n",
       " -999052,\n",
       " -999050,\n",
       " -999048,\n",
       " -999046,\n",
       " -999044,\n",
       " -999042,\n",
       " -999040,\n",
       " -999038,\n",
       " -999036,\n",
       " -999034,\n",
       " -999032,\n",
       " -999030,\n",
       " -999028,\n",
       " -999026,\n",
       " -999024,\n",
       " -999022,\n",
       " -999020,\n",
       " -999018,\n",
       " -999016,\n",
       " -999014,\n",
       " -999012,\n",
       " -999010,\n",
       " -999008,\n",
       " -999006,\n",
       " -999004,\n",
       " -999002,\n",
       " -999000,\n",
       " -998998,\n",
       " -998996,\n",
       " -998994,\n",
       " -998992,\n",
       " -998990,\n",
       " -998988,\n",
       " -998986,\n",
       " -998984,\n",
       " -998982,\n",
       " -998980,\n",
       " -998978,\n",
       " -998976,\n",
       " -998974,\n",
       " -998972,\n",
       " -998970,\n",
       " -998968,\n",
       " -998966,\n",
       " -998964,\n",
       " -998962,\n",
       " -998960,\n",
       " -998958,\n",
       " -998956,\n",
       " -998954,\n",
       " -998952,\n",
       " -998950,\n",
       " -998948,\n",
       " -998946,\n",
       " -998944,\n",
       " -998942,\n",
       " -998940,\n",
       " -998938,\n",
       " -998936,\n",
       " -998934,\n",
       " -998932,\n",
       " -998930,\n",
       " -998928,\n",
       " -998926,\n",
       " -998924,\n",
       " -998922,\n",
       " -998920,\n",
       " -998918,\n",
       " -998916,\n",
       " -998914,\n",
       " -998912,\n",
       " -998910,\n",
       " -998908,\n",
       " -998906,\n",
       " -998904,\n",
       " -998902,\n",
       " -998900,\n",
       " -998898,\n",
       " -998896,\n",
       " -998894,\n",
       " -998892,\n",
       " -998890,\n",
       " -998888,\n",
       " -998886,\n",
       " -998884,\n",
       " -998882,\n",
       " -998880,\n",
       " -998878,\n",
       " -998876,\n",
       " -998874,\n",
       " -998872,\n",
       " -998870,\n",
       " -998868,\n",
       " -998866,\n",
       " -998864,\n",
       " -998862,\n",
       " -998860,\n",
       " -998858,\n",
       " -998856,\n",
       " -998854,\n",
       " -998852,\n",
       " -998850,\n",
       " -998848,\n",
       " -998846,\n",
       " -998844,\n",
       " -998842,\n",
       " -998840,\n",
       " -998838,\n",
       " -998836,\n",
       " -998834,\n",
       " -998832,\n",
       " -998830,\n",
       " -998828,\n",
       " -998826,\n",
       " -998824,\n",
       " -998822,\n",
       " -998820,\n",
       " -998818,\n",
       " -998816,\n",
       " -998814,\n",
       " -998812,\n",
       " -998810,\n",
       " -998808,\n",
       " -998806,\n",
       " -998804,\n",
       " -998802,\n",
       " -998800,\n",
       " -998798,\n",
       " -998796,\n",
       " -998794,\n",
       " -998792,\n",
       " -998790,\n",
       " -998788,\n",
       " -998786,\n",
       " -998784,\n",
       " -998782,\n",
       " -998780,\n",
       " -998778,\n",
       " -998776,\n",
       " -998774,\n",
       " -998772,\n",
       " -998770,\n",
       " -998768,\n",
       " -998766,\n",
       " -998764,\n",
       " -998762,\n",
       " -998760,\n",
       " -998758,\n",
       " -998756,\n",
       " -998754,\n",
       " -998752,\n",
       " -998750,\n",
       " -998748,\n",
       " -998746,\n",
       " -998744,\n",
       " -998742,\n",
       " -998740,\n",
       " -998738,\n",
       " -998736,\n",
       " -998734,\n",
       " -998732,\n",
       " -998730,\n",
       " -998728,\n",
       " -998726,\n",
       " -998724,\n",
       " -998722,\n",
       " -998720,\n",
       " -998718,\n",
       " -998716,\n",
       " -998714,\n",
       " -998712,\n",
       " -998710,\n",
       " -998708,\n",
       " -998706,\n",
       " -998704,\n",
       " -998702,\n",
       " -998700,\n",
       " -998698,\n",
       " -998696,\n",
       " -998694,\n",
       " -998692,\n",
       " -998690,\n",
       " -998688,\n",
       " -998686,\n",
       " -998684,\n",
       " -998682,\n",
       " -998680,\n",
       " -998678,\n",
       " -998676,\n",
       " -998674,\n",
       " -998672,\n",
       " -998670,\n",
       " -998668,\n",
       " -998666,\n",
       " -998664,\n",
       " -998662,\n",
       " -998660,\n",
       " -998658,\n",
       " -998656,\n",
       " -998654,\n",
       " -998652,\n",
       " -998650,\n",
       " -998648,\n",
       " -998646,\n",
       " -998644,\n",
       " -998642,\n",
       " -998640,\n",
       " -998638,\n",
       " -998636,\n",
       " -998634,\n",
       " -998632,\n",
       " -998630,\n",
       " -998628,\n",
       " -998626,\n",
       " -998624,\n",
       " -998622,\n",
       " -998620,\n",
       " -998618,\n",
       " -998616,\n",
       " -998614,\n",
       " -998612,\n",
       " -998610,\n",
       " -998608,\n",
       " -998606,\n",
       " -998604,\n",
       " -998602,\n",
       " -998600,\n",
       " -998598,\n",
       " -998596,\n",
       " -998594,\n",
       " -998592,\n",
       " -998590,\n",
       " -998588,\n",
       " -998586,\n",
       " -998584,\n",
       " -998582,\n",
       " -998580,\n",
       " -998578,\n",
       " -998576,\n",
       " -998574,\n",
       " -998572,\n",
       " -998570,\n",
       " -998568,\n",
       " -998566,\n",
       " -998564,\n",
       " -998562,\n",
       " -998560,\n",
       " -998558,\n",
       " -998556,\n",
       " -998554,\n",
       " -998552,\n",
       " -998550,\n",
       " -998548,\n",
       " -998546,\n",
       " -998544,\n",
       " -998542,\n",
       " -998540,\n",
       " -998538,\n",
       " -998536,\n",
       " -998534,\n",
       " -998532,\n",
       " -998530,\n",
       " -998528,\n",
       " -998526,\n",
       " -998524,\n",
       " -998522,\n",
       " -998520,\n",
       " -998518,\n",
       " -998516,\n",
       " -998514,\n",
       " -998512,\n",
       " -998510,\n",
       " -998508,\n",
       " -998506,\n",
       " -998504,\n",
       " -998502,\n",
       " -998500,\n",
       " -998498,\n",
       " -998496,\n",
       " -998494,\n",
       " -998492,\n",
       " -998490,\n",
       " -998488,\n",
       " -998486,\n",
       " -998484,\n",
       " -998482,\n",
       " -998480,\n",
       " -998478,\n",
       " -998476,\n",
       " -998474,\n",
       " -998472,\n",
       " -998470,\n",
       " -998468,\n",
       " -998466,\n",
       " -998464,\n",
       " -998462,\n",
       " -998460,\n",
       " -998458,\n",
       " -998456,\n",
       " -998454,\n",
       " -998452,\n",
       " -998450,\n",
       " -998448,\n",
       " -998446,\n",
       " -998444,\n",
       " -998442,\n",
       " -998440,\n",
       " -998438,\n",
       " -998436,\n",
       " -998434,\n",
       " -998432,\n",
       " -998430,\n",
       " -998428,\n",
       " -998426,\n",
       " -998424,\n",
       " -998422,\n",
       " -998420,\n",
       " -998418,\n",
       " -998416,\n",
       " -998414,\n",
       " -998412,\n",
       " -998410,\n",
       " -998408,\n",
       " -998406,\n",
       " -998404,\n",
       " -998402,\n",
       " -998400,\n",
       " -998398,\n",
       " -998396,\n",
       " -998394,\n",
       " -998392,\n",
       " -998390,\n",
       " -998388,\n",
       " -998386,\n",
       " -998384,\n",
       " -998382,\n",
       " -998380,\n",
       " -998378,\n",
       " -998376,\n",
       " -998374,\n",
       " -998372,\n",
       " -998370,\n",
       " -998368,\n",
       " -998366,\n",
       " -998364,\n",
       " -998362,\n",
       " -998360,\n",
       " -998358,\n",
       " -998356,\n",
       " -998354,\n",
       " -998352,\n",
       " -998350,\n",
       " -998348,\n",
       " -998346,\n",
       " -998344,\n",
       " -998342,\n",
       " -998340,\n",
       " -998338,\n",
       " -998336,\n",
       " -998334,\n",
       " -998332,\n",
       " -998330,\n",
       " -998328,\n",
       " -998326,\n",
       " -998324,\n",
       " -998322,\n",
       " -998320,\n",
       " -998318,\n",
       " -998316,\n",
       " -998314,\n",
       " -998312,\n",
       " -998310,\n",
       " -998308,\n",
       " -998306,\n",
       " -998304,\n",
       " -998302,\n",
       " -998300,\n",
       " -998298,\n",
       " -998296,\n",
       " -998294,\n",
       " -998292,\n",
       " -998290,\n",
       " -998288,\n",
       " -998286,\n",
       " -998284,\n",
       " -998282,\n",
       " -998280,\n",
       " -998278,\n",
       " -998276,\n",
       " -998274,\n",
       " -998272,\n",
       " -998270,\n",
       " -998268,\n",
       " -998266,\n",
       " -998264,\n",
       " -998262,\n",
       " -998260,\n",
       " -998258,\n",
       " -998256,\n",
       " -998254,\n",
       " -998252,\n",
       " -998250,\n",
       " -998248,\n",
       " -998246,\n",
       " -998244,\n",
       " -998242,\n",
       " -998240,\n",
       " -998238,\n",
       " -998236,\n",
       " -998234,\n",
       " -998232,\n",
       " -998230,\n",
       " -998228,\n",
       " -998226,\n",
       " -998224,\n",
       " -998222,\n",
       " -998220,\n",
       " -998218,\n",
       " -998216,\n",
       " -998214,\n",
       " -998212,\n",
       " -998210,\n",
       " -998208,\n",
       " -998206,\n",
       " -998204,\n",
       " -998202,\n",
       " -998200,\n",
       " -998198,\n",
       " -998196,\n",
       " -998194,\n",
       " -998192,\n",
       " -998190,\n",
       " -998188,\n",
       " -998186,\n",
       " -998184,\n",
       " -998182,\n",
       " -998180,\n",
       " -998178,\n",
       " -998176,\n",
       " -998174,\n",
       " -998172,\n",
       " -998170,\n",
       " -998168,\n",
       " -998166,\n",
       " -998164,\n",
       " -998162,\n",
       " -998160,\n",
       " -998158,\n",
       " -998156,\n",
       " -998154,\n",
       " -998152,\n",
       " -998150,\n",
       " -998148,\n",
       " -998146,\n",
       " -998144,\n",
       " -998142,\n",
       " -998140,\n",
       " -998138,\n",
       " -998136,\n",
       " -998134,\n",
       " -998132,\n",
       " -998130,\n",
       " -998128,\n",
       " -998126,\n",
       " -998124,\n",
       " -998122,\n",
       " -998120,\n",
       " -998118,\n",
       " -998116,\n",
       " -998114,\n",
       " -998112,\n",
       " -998110,\n",
       " -998108,\n",
       " -998106,\n",
       " -998104,\n",
       " -998102,\n",
       " -998100,\n",
       " -998098,\n",
       " -998096,\n",
       " -998094,\n",
       " -998092,\n",
       " -998090,\n",
       " -998088,\n",
       " -998086,\n",
       " -998084,\n",
       " -998082,\n",
       " -998080,\n",
       " -998078,\n",
       " -998076,\n",
       " -998074,\n",
       " -998072,\n",
       " -998070,\n",
       " -998068,\n",
       " -998066,\n",
       " -998064,\n",
       " -998062,\n",
       " -998060,\n",
       " -998058,\n",
       " -998056,\n",
       " -998054,\n",
       " -998052,\n",
       " -998050,\n",
       " -998048,\n",
       " -998046,\n",
       " -998044,\n",
       " -998042,\n",
       " -998040,\n",
       " -998038,\n",
       " -998036,\n",
       " -998034,\n",
       " -998032,\n",
       " -998030,\n",
       " -998028,\n",
       " -998026,\n",
       " -998024,\n",
       " -998022,\n",
       " -998020,\n",
       " -998018,\n",
       " -998016,\n",
       " -998014,\n",
       " -998012,\n",
       " -998010,\n",
       " -998008,\n",
       " -998006,\n",
       " -998004,\n",
       " -998002,\n",
       " ...]"
      ]
     },
     "execution_count": 24,
     "metadata": {},
     "output_type": "execute_result"
    }
   ],
   "source": [
    "lyginiai = [skaicius for skaicius in range(-1000000, 1000000) if skaicius % 2 == 0] #panaudojimas karta\n",
    "lyginiai"
   ]
  },
  {
   "cell_type": "code",
   "execution_count": null,
   "metadata": {},
   "outputs": [],
   "source": [
    "lyginiai = [skaicius for skaicius in sarasas if skaicius % 2 == 0] #panaudojimas karta\n",
    "lyginiai"
   ]
  },
  {
   "cell_type": "code",
   "execution_count": 25,
   "metadata": {},
   "outputs": [
    {
     "data": {
      "text/plain": [
       "-45001"
      ]
     },
     "execution_count": 25,
     "metadata": {},
     "output_type": "execute_result"
    }
   ],
   "source": [
    "genlyg = (skaicius for skaicius in range(-100000, 10000) if skaicius % 2 == 0)\n",
    "mean(genlyg)"
   ]
  },
  {
   "cell_type": "code",
   "execution_count": null,
   "metadata": {},
   "outputs": [],
   "source": [
    "def tik_lyginiai(sarasas):\n",
    "    lyginiai = []\n",
    "    for skaicius in\n"
   ]
  },
  {
   "cell_type": "code",
   "execution_count": 27,
   "metadata": {},
   "outputs": [
    {
     "data": {
      "text/plain": [
       "[77,\n",
       " 66,\n",
       " 69,\n",
       " 'Labas',\n",
       " True,\n",
       " False,\n",
       " 'vakaras',\n",
       " list[1, 2, 3],\n",
       " {'kibiras': 'be rankenos'},\n",
       " -100.2,\n",
       " 69.42,\n",
       " 'OK',\n",
       " 42,\n",
       " 21,\n",
       " 3.14]"
      ]
     },
     "execution_count": 27,
     "metadata": {},
     "output_type": "execute_result"
    }
   ],
   "source": [
    "misriukas = [77, 66, 69, \"Labas\", True, False, \"vakaras\", list[1, 2, 3], {\"kibiras\": \"be rankenos\"}, -100.2, 69.420, \"OK\", 42, 21, 3.14]\n",
    "misriukas"
   ]
  },
  {
   "cell_type": "code",
   "execution_count": 28,
   "metadata": {},
   "outputs": [
    {
     "data": {
      "text/plain": [
       "5"
      ]
     },
     "execution_count": 28,
     "metadata": {},
     "output_type": "execute_result"
    }
   ],
   "source": [
    "kiek_int = sum(type(elementas) is int for elementas in misriukas)\n",
    "kiek_int"
   ]
  },
  {
   "cell_type": "code",
   "execution_count": 30,
   "metadata": {},
   "outputs": [
    {
     "data": {
      "text/plain": [
       "3"
      ]
     },
     "execution_count": 30,
     "metadata": {},
     "output_type": "execute_result"
    }
   ],
   "source": [
    "kiek_string = sum(type(elementas) is float for elementas in misriukas)\n",
    "kiek_string"
   ]
  },
  {
   "cell_type": "code",
   "execution_count": 31,
   "metadata": {},
   "outputs": [
    {
     "name": "stdout",
     "output_type": "stream",
     "text": [
      "3\n",
      "5\n",
      "0\n"
     ]
    }
   ],
   "source": [
    "def kiek_tipu(tipas, sarasas):\n",
    "    return sum(type(elementas) is tipas for elementas in sarasas)\n",
    "\n",
    "print(kiek_tipu(float, misriukas))\n",
    "print(kiek_tipu(int, misriukas))\n",
    "print(kiek_tipu(list, misriukas))"
   ]
  },
  {
   "cell_type": "code",
   "execution_count": null,
   "metadata": {},
   "outputs": [],
   "source": [
    "#rusiavimas"
   ]
  },
  {
   "cell_type": "code",
   "execution_count": 32,
   "metadata": {},
   "outputs": [
    {
     "data": {
      "text/plain": [
       "[1, 2, 3, 4, 5, 6, 7, 8, 9, 10]"
      ]
     },
     "execution_count": 32,
     "metadata": {},
     "output_type": "execute_result"
    }
   ],
   "source": [
    "nerusiuotas = [4, 3, 2, 1, 5, 6, 7, 10, 9, 8] #pasideda i ki ta kintamaji ir tada rusiuoja\n",
    "surusiuotas = sorted(nerusiuotas)\n",
    "surusiuotas"
   ]
  },
  {
   "cell_type": "code",
   "execution_count": 33,
   "metadata": {},
   "outputs": [
    {
     "data": {
      "text/plain": [
       "[10, 9, 8, 7, 6, 5, 4, 3, 2, 1]"
      ]
     },
     "execution_count": 33,
     "metadata": {},
     "output_type": "execute_result"
    }
   ],
   "source": [
    "nerusiuotas.sort(reverse=True)\n",
    "nerusiuotas #dirba nat to pacio kintamojo"
   ]
  },
  {
   "cell_type": "code",
   "execution_count": 34,
   "metadata": {},
   "outputs": [
    {
     "data": {
      "text/plain": [
       "41"
      ]
     },
     "execution_count": 34,
     "metadata": {},
     "output_type": "execute_result"
    }
   ],
   "source": [
    "from random import randrange\n",
    "betkas = randrange(-99, 100)\n",
    "betkas"
   ]
  },
  {
   "cell_type": "code",
   "execution_count": 38,
   "metadata": {},
   "outputs": [
    {
     "data": {
      "text/plain": [
       "[22, 80, 21, -40, -30, 83, -90, 73, 23, 93]"
      ]
     },
     "execution_count": 38,
     "metadata": {},
     "output_type": "execute_result"
    }
   ],
   "source": [
    "from random import randrange\n",
    "betkas = sorted([randrange(-99, 100) for skaicius in range(10)]) #velgi naudojame tik ant pacio kintamojo\n",
    "betkas"
   ]
  },
  {
   "cell_type": "code",
   "execution_count": 40,
   "metadata": {},
   "outputs": [
    {
     "data": {
      "text/plain": [
       "[-70, -66, -22, -5, 6, 30, 56, 70, 86, 98]"
      ]
     },
     "execution_count": 40,
     "metadata": {},
     "output_type": "execute_result"
    }
   ],
   "source": [
    "from random import randrange\n",
    "betkas = [randrange(-99, 100) for skaicius in range(10)] #perkeliame i kita kintamaji\n",
    "betkas.sort()\n",
    "betkas"
   ]
  },
  {
   "cell_type": "code",
   "execution_count": 41,
   "metadata": {},
   "outputs": [
    {
     "data": {
      "text/plain": [
       "['pareigos', 'pavarde', 'vardas']"
      ]
     },
     "execution_count": 41,
     "metadata": {},
     "output_type": "execute_result"
    }
   ],
   "source": [
    "#zodymu rusiavimas\n",
    "zmogus = {\n",
    "    \"vardas\": \"Kestutis\",\n",
    "    \"pavarde\": \"Jan\",\n",
    "    \"pareigos\": \"Destytojas\"\n",
    "}\n",
    "surusiuotas = sorted(zmogus)\n",
    "surusiuotas"
   ]
  },
  {
   "cell_type": "code",
   "execution_count": 42,
   "metadata": {},
   "outputs": [
    {
     "data": {
      "text/plain": [
       "['40', 'Destytojas', 'Jan', 'Kestutis']"
      ]
     },
     "execution_count": 42,
     "metadata": {},
     "output_type": "execute_result"
    }
   ],
   "source": [
    "zmogus = {\n",
    "    \"vardas\": \"Kestutis\",\n",
    "    \"pavarde\": \"Jan\",\n",
    "    \"amzius\": 40,\n",
    "    \"pareigos\": \"Destytojas\"\n",
    "}\n",
    "surusiuotas = sorted(str(value) for value in zmogus.values())\n",
    "surusiuotas"
   ]
  },
  {
   "cell_type": "code",
   "execution_count": 43,
   "metadata": {},
   "outputs": [
    {
     "data": {
      "text/plain": [
       "[-5, 6, -22, 30, 56, -66, -70, 70, 86, 98]"
      ]
     },
     "execution_count": 43,
     "metadata": {},
     "output_type": "execute_result"
    }
   ],
   "source": [
    "sorted(betkas, key=abs) #absoliuti reiksme atmeta visus metamtinius veiksmus"
   ]
  },
  {
   "cell_type": "code",
   "execution_count": 49,
   "metadata": {},
   "outputs": [
    {
     "data": {
      "text/plain": [
       "[(Domas, Radzevičius, 2000),\n",
       " (Geras, Rykiuotojas, 3000),\n",
       " (Rokas, Ramanauskas, 1000),\n",
       " (Tadas, Rutkauskas, 1500)]"
      ]
     },
     "execution_count": 49,
     "metadata": {},
     "output_type": "execute_result"
    }
   ],
   "source": [
    "class Darbuotojas:\n",
    "    def __init__(self, vardas, pavarde, atlyginimas):\n",
    "        self.vardas = vardas\n",
    "        self.pavarde = pavarde\n",
    "        self.atlyginimas = atlyginimas\n",
    "\n",
    "    def __repr__(self):\n",
    "        return (f\"({self.vardas}, {self.pavarde}, {self.atlyginimas})\")\n",
    "\n",
    "d1 = Darbuotojas(\"Tadas\", \"Rutkauskas\", 1500)\n",
    "d2 = Darbuotojas(\"Domas\", \"Radzevičius\", 2000)\n",
    "d3 = Darbuotojas(\"Rokas\", \"Ramanauskas\", 1000)\n",
    "d4 = Darbuotojas(\"Geras\", \"Rykiuotojas\", 3000)\n",
    "darbuotojai = [d1, d2, d3, d4]\n",
    "darbuotojai\n",
    "\n",
    "def rusiavimas_pagal_vardas(obj):\n",
    "    if hasa\n",
    "    return obj.vardas #iesko tik kreipaisi i objekta atributa vardas\n",
    "\n",
    "darbuotojai_pagal_varda = sorted(darbuotojai, key=rusiavimas_pagal_vardas) #rusiavimas pagal funkcija, leidzia \n",
    "darbuotojai_pagal_varda"
   ]
  },
  {
   "cell_type": "code",
   "execution_count": 50,
   "metadata": {},
   "outputs": [
    {
     "data": {
      "text/plain": [
       "[(Domas, Radzevičius, 2000),\n",
       " (Rokas, Ramanauskas, 1000),\n",
       " (Tadas, Rutkauskas, 1500),\n",
       " (Geras, Rykiuotojas, 3000)]"
      ]
     },
     "execution_count": 50,
     "metadata": {},
     "output_type": "execute_result"
    }
   ],
   "source": [
    "darbuotojai_pagal_pavarde = sorted(darbuotojai, key=lambda obj: obj.pavarde)\n",
    "darbuotojai_pagal_pavarde"
   ]
  },
  {
   "cell_type": "code",
   "execution_count": 54,
   "metadata": {},
   "outputs": [
    {
     "data": {
      "text/plain": [
       "[(Geras, Rykiuotojas, 3000),\n",
       " (Domas, Radzevičius, 2000),\n",
       " (Tadas, Rutkauskas, 1500),\n",
       " (Rokas, Ramanauskas, 1000)]"
      ]
     },
     "execution_count": 54,
     "metadata": {},
     "output_type": "execute_result"
    }
   ],
   "source": [
    "from operator import attrgetter\n",
    "darbuotojai_pagal_atlyginima = sorted(darbuotojai, key=attrgetter(\"atlyginimas\"), reverse=True) #attrgetter paiima atributa\n",
    "darbuotojai_pagal_atlyginima"
   ]
  }
 ],
 "metadata": {
  "kernelspec": {
   "display_name": "venv",
   "language": "python",
   "name": "python3"
  },
  "language_info": {
   "codemirror_mode": {
    "name": "ipython",
    "version": 3
   },
   "file_extension": ".py",
   "mimetype": "text/x-python",
   "name": "python",
   "nbconvert_exporter": "python",
   "pygments_lexer": "ipython3",
   "version": "3.10.9 (v3.10.9:1dd9be6584, Dec  6 2022, 14:37:36) [Clang 13.0.0 (clang-1300.0.29.30)]"
  },
  "orig_nbformat": 4,
  "vscode": {
   "interpreter": {
    "hash": "4f44021911486273f3855d718b483757b6429aebecc29d985f38deba7e737e45"
   }
  }
 },
 "nbformat": 4,
 "nbformat_minor": 2
}
