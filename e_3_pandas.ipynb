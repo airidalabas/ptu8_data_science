{
 "cells": [
  {
   "cell_type": "code",
   "execution_count": 2,
   "metadata": {},
   "outputs": [],
   "source": [
    "import numpy as np\n",
    "import pandas as pd"
   ]
  },
  {
   "cell_type": "markdown",
   "metadata": {},
   "source": []
  },
  {
   "cell_type": "code",
   "execution_count": 5,
   "metadata": {},
   "outputs": [
    {
     "data": {
      "text/html": [
       "<div>\n",
       "<style scoped>\n",
       "    .dataframe tbody tr th:only-of-type {\n",
       "        vertical-align: middle;\n",
       "    }\n",
       "\n",
       "    .dataframe tbody tr th {\n",
       "        vertical-align: top;\n",
       "    }\n",
       "\n",
       "    .dataframe thead th {\n",
       "        text-align: right;\n",
       "    }\n",
       "</style>\n",
       "<table border=\"1\" class=\"dataframe\">\n",
       "  <thead>\n",
       "    <tr style=\"text-align: right;\">\n",
       "      <th></th>\n",
       "      <th>fire_name</th>\n",
       "      <th>cause</th>\n",
       "      <th>month</th>\n",
       "      <th>year</th>\n",
       "      <th>county</th>\n",
       "      <th>acres</th>\n",
       "      <th>structures</th>\n",
       "      <th>deaths</th>\n",
       "    </tr>\n",
       "  </thead>\n",
       "  <tbody>\n",
       "    <tr>\n",
       "      <th>0</th>\n",
       "      <td>Mendocino Complex</td>\n",
       "      <td>Under Investigation</td>\n",
       "      <td>July</td>\n",
       "      <td>2018</td>\n",
       "      <td>Colusa County, Lake County, Mendocino County &amp;...</td>\n",
       "      <td>459123</td>\n",
       "      <td>280</td>\n",
       "      <td>1</td>\n",
       "    </tr>\n",
       "    <tr>\n",
       "      <th>1</th>\n",
       "      <td>Thomas</td>\n",
       "      <td>Powerlines</td>\n",
       "      <td>December</td>\n",
       "      <td>2017</td>\n",
       "      <td>Ventura &amp; Santa Barbara</td>\n",
       "      <td>281893</td>\n",
       "      <td>1063</td>\n",
       "      <td>2</td>\n",
       "    </tr>\n",
       "    <tr>\n",
       "      <th>2</th>\n",
       "      <td>Cedar</td>\n",
       "      <td>Human Related</td>\n",
       "      <td>October</td>\n",
       "      <td>2003</td>\n",
       "      <td>San Diego</td>\n",
       "      <td>273246</td>\n",
       "      <td>2820</td>\n",
       "      <td>15</td>\n",
       "    </tr>\n",
       "    <tr>\n",
       "      <th>3</th>\n",
       "      <td>Rush</td>\n",
       "      <td>Lightning</td>\n",
       "      <td>August</td>\n",
       "      <td>2012</td>\n",
       "      <td>Lassen</td>\n",
       "      <td>271911</td>\n",
       "      <td>0</td>\n",
       "      <td>0</td>\n",
       "    </tr>\n",
       "    <tr>\n",
       "      <th>4</th>\n",
       "      <td>Rim</td>\n",
       "      <td>Human Related</td>\n",
       "      <td>August</td>\n",
       "      <td>2013</td>\n",
       "      <td>Tuolumne</td>\n",
       "      <td>257314</td>\n",
       "      <td>112</td>\n",
       "      <td>0</td>\n",
       "    </tr>\n",
       "  </tbody>\n",
       "</table>\n",
       "</div>"
      ],
      "text/plain": [
       "           fire_name                cause     month  year  \\\n",
       "0  Mendocino Complex  Under Investigation      July  2018   \n",
       "1             Thomas           Powerlines  December  2017   \n",
       "2              Cedar        Human Related   October  2003   \n",
       "3               Rush            Lightning    August  2012   \n",
       "4                Rim        Human Related    August  2013   \n",
       "\n",
       "                                              county   acres  structures  \\\n",
       "0  Colusa County, Lake County, Mendocino County &...  459123         280   \n",
       "1                            Ventura & Santa Barbara  281893        1063   \n",
       "2                                          San Diego  273246        2820   \n",
       "3                                             Lassen  271911           0   \n",
       "4                                           Tuolumne  257314         112   \n",
       "\n",
       "   deaths  \n",
       "0       1  \n",
       "1       2  \n",
       "2      15  \n",
       "3       0  \n",
       "4       0  "
      ]
     },
     "execution_count": 5,
     "metadata": {},
     "output_type": "execute_result"
    }
   ],
   "source": [
    "fire = pd.read_csv(\"wildfires.csv\")\n",
    "fire.head()"
   ]
  },
  {
   "cell_type": "code",
   "execution_count": 7,
   "metadata": {},
   "outputs": [
    {
     "data": {
      "text/plain": [
       "5"
      ]
     },
     "execution_count": 7,
     "metadata": {},
     "output_type": "execute_result"
    }
   ],
   "source": [
    "#4 Kiek unikalių reikšmių yra stulpelyje 'cause'?\n",
    "len(fire[\"cause\"].unique())"
   ]
  },
  {
   "cell_type": "code",
   "execution_count": 8,
   "metadata": {},
   "outputs": [
    {
     "data": {
      "text/plain": [
       "Human Related          7\n",
       "Lightning              7\n",
       "Powerlines             4\n",
       "Under Investigation    1\n",
       "Undetermined           1\n",
       "Name: cause, dtype: int64"
      ]
     },
     "execution_count": 8,
     "metadata": {},
     "output_type": "execute_result"
    }
   ],
   "source": [
    "#5 Kokios gaisrų priežastys, kiek kartų pasitaiko lentelėje?\n",
    "fire[\"cause\"].value_counts()"
   ]
  },
  {
   "cell_type": "code",
   "execution_count": 15,
   "metadata": {},
   "outputs": [
    {
     "data": {
      "text/plain": [
       "2018"
      ]
     },
     "execution_count": 15,
     "metadata": {},
     "output_type": "execute_result"
    }
   ],
   "source": [
    "#6 Kuriais metais buvo daugiausia gaisrų?\n",
    "fire[\"year\"].value_counts().idxmax()"
   ]
  },
  {
   "cell_type": "code",
   "execution_count": 17,
   "metadata": {},
   "outputs": [
    {
     "data": {
      "text/plain": [
       "fire_name\n",
       "Basin Complex              2008\n",
       "Big Bar Complex            1999\n",
       "Camp Fire                  2018\n",
       "Carr                       2018\n",
       "Cedar                      2003\n",
       "Day Fire                   2006\n",
       "Klamath Theater Complex    2008\n",
       "Laguna                     1970\n",
       "Marble Cone                1977\n",
       "Matilija                   1932\n",
       "Mcnally                    2002\n",
       "Mendocino Complex          2018\n",
       "Rim                        2013\n",
       "Rough                      2015\n",
       "Rush                       2012\n",
       "Stanislaus Complex         1987\n",
       "Station                    2009\n",
       "Thomas                     2017\n",
       "Witch                      2007\n",
       "Zaca                       2007\n",
       "Name: year, dtype: int64"
      ]
     },
     "execution_count": 17,
     "metadata": {},
     "output_type": "execute_result"
    }
   ],
   "source": [
    "by_cause = fire.groupby(\"fire_name\")\n",
    "by_cause[\"year\"].idxmin()\n",
    "by_cause[\"year\"].min()"
   ]
  },
  {
   "cell_type": "code",
   "execution_count": 79,
   "metadata": {},
   "outputs": [
    {
     "ename": "KeyError",
     "evalue": "'Column not found: <pandas.core.groupby.generic.SeriesGroupBy object at 0x1374ba4a0>'",
     "output_type": "error",
     "traceback": [
      "\u001b[0;31m---------------------------------------------------------------------------\u001b[0m",
      "\u001b[0;31mKeyError\u001b[0m                                  Traceback (most recent call last)",
      "Cell \u001b[0;32mIn[79], line 1\u001b[0m\n\u001b[0;32m----> 1\u001b[0m by_cause[by_cause[\u001b[39m\"\u001b[39;49m\u001b[39myear\u001b[39;49m\u001b[39m\"\u001b[39;49m]]\n",
      "File \u001b[0;32m~/Documents/ptu8/ptu8_data_science/venv/lib/python3.10/site-packages/pandas/core/groupby/generic.py:1416\u001b[0m, in \u001b[0;36mDataFrameGroupBy.__getitem__\u001b[0;34m(self, key)\u001b[0m\n\u001b[1;32m   1407\u001b[0m \u001b[39mif\u001b[39;00m \u001b[39misinstance\u001b[39m(key, \u001b[39mtuple\u001b[39m) \u001b[39mand\u001b[39;00m \u001b[39mlen\u001b[39m(key) \u001b[39m>\u001b[39m \u001b[39m1\u001b[39m:\n\u001b[1;32m   1408\u001b[0m     \u001b[39m# if len == 1, then it becomes a SeriesGroupBy and this is actually\u001b[39;00m\n\u001b[1;32m   1409\u001b[0m     \u001b[39m# valid syntax, so don't raise warning\u001b[39;00m\n\u001b[1;32m   1410\u001b[0m     warnings\u001b[39m.\u001b[39mwarn(\n\u001b[1;32m   1411\u001b[0m         \u001b[39m\"\u001b[39m\u001b[39mIndexing with multiple keys (implicitly converted to a tuple \u001b[39m\u001b[39m\"\u001b[39m\n\u001b[1;32m   1412\u001b[0m         \u001b[39m\"\u001b[39m\u001b[39mof keys) will be deprecated, use a list instead.\u001b[39m\u001b[39m\"\u001b[39m,\n\u001b[1;32m   1413\u001b[0m         \u001b[39mFutureWarning\u001b[39;00m,\n\u001b[1;32m   1414\u001b[0m         stacklevel\u001b[39m=\u001b[39mfind_stack_level(),\n\u001b[1;32m   1415\u001b[0m     )\n\u001b[0;32m-> 1416\u001b[0m \u001b[39mreturn\u001b[39;00m \u001b[39msuper\u001b[39;49m()\u001b[39m.\u001b[39;49m\u001b[39m__getitem__\u001b[39;49m(key)\n",
      "File \u001b[0;32m~/Documents/ptu8/ptu8_data_science/venv/lib/python3.10/site-packages/pandas/core/base.py:248\u001b[0m, in \u001b[0;36mSelectionMixin.__getitem__\u001b[0;34m(self, key)\u001b[0m\n\u001b[1;32m    246\u001b[0m \u001b[39melse\u001b[39;00m:\n\u001b[1;32m    247\u001b[0m     \u001b[39mif\u001b[39;00m key \u001b[39mnot\u001b[39;00m \u001b[39min\u001b[39;00m \u001b[39mself\u001b[39m\u001b[39m.\u001b[39mobj:\n\u001b[0;32m--> 248\u001b[0m         \u001b[39mraise\u001b[39;00m \u001b[39mKeyError\u001b[39;00m(\u001b[39mf\u001b[39m\u001b[39m\"\u001b[39m\u001b[39mColumn not found: \u001b[39m\u001b[39m{\u001b[39;00mkey\u001b[39m}\u001b[39;00m\u001b[39m\"\u001b[39m)\n\u001b[1;32m    249\u001b[0m     subset \u001b[39m=\u001b[39m \u001b[39mself\u001b[39m\u001b[39m.\u001b[39mobj[key]\n\u001b[1;32m    250\u001b[0m     ndim \u001b[39m=\u001b[39m subset\u001b[39m.\u001b[39mndim\n",
      "\u001b[0;31mKeyError\u001b[0m: 'Column not found: <pandas.core.groupby.generic.SeriesGroupBy object at 0x1374ba4a0>'"
     ]
    }
   ],
   "source": [
    "by_cause[by_cause[\"year\"]]\n"
   ]
  },
  {
   "cell_type": "code",
   "execution_count": 42,
   "metadata": {},
   "outputs": [
    {
     "data": {
      "text/plain": [
       "10"
      ]
     },
     "execution_count": 42,
     "metadata": {},
     "output_type": "execute_result"
    }
   ],
   "source": [
    "#7 Kiek buvo tokių gaisrų, kuriuose žuvo žmonės?\n",
    "fire[\"deaths\"].value_counts().max()"
   ]
  },
  {
   "cell_type": "code",
   "execution_count": 47,
   "metadata": {},
   "outputs": [
    {
     "data": {
      "text/html": [
       "<div>\n",
       "<style scoped>\n",
       "    .dataframe tbody tr th:only-of-type {\n",
       "        vertical-align: middle;\n",
       "    }\n",
       "\n",
       "    .dataframe tbody tr th {\n",
       "        vertical-align: top;\n",
       "    }\n",
       "\n",
       "    .dataframe thead th {\n",
       "        text-align: right;\n",
       "    }\n",
       "</style>\n",
       "<table border=\"1\" class=\"dataframe\">\n",
       "  <thead>\n",
       "    <tr style=\"text-align: right;\">\n",
       "      <th></th>\n",
       "      <th>fire_name</th>\n",
       "      <th>cause</th>\n",
       "      <th>month</th>\n",
       "      <th>year</th>\n",
       "      <th>county</th>\n",
       "      <th>acres</th>\n",
       "      <th>structures</th>\n",
       "      <th>deaths</th>\n",
       "    </tr>\n",
       "  </thead>\n",
       "  <tbody>\n",
       "    <tr>\n",
       "      <th>0</th>\n",
       "      <td>Mendocino Complex</td>\n",
       "      <td>Under Investigation</td>\n",
       "      <td>July</td>\n",
       "      <td>2018</td>\n",
       "      <td>Colusa County, Lake County, Mendocino County &amp;...</td>\n",
       "      <td>459123</td>\n",
       "      <td>280</td>\n",
       "      <td>1</td>\n",
       "    </tr>\n",
       "    <tr>\n",
       "      <th>15</th>\n",
       "      <td>Camp Fire</td>\n",
       "      <td>Powerlines</td>\n",
       "      <td>November</td>\n",
       "      <td>2018</td>\n",
       "      <td>Butte</td>\n",
       "      <td>153336</td>\n",
       "      <td>18804</td>\n",
       "      <td>85</td>\n",
       "    </tr>\n",
       "    <tr>\n",
       "      <th>6</th>\n",
       "      <td>Carr</td>\n",
       "      <td>Human Related</td>\n",
       "      <td>July</td>\n",
       "      <td>2018</td>\n",
       "      <td>Shasta County,Trinity County</td>\n",
       "      <td>229651</td>\n",
       "      <td>1614</td>\n",
       "      <td>8</td>\n",
       "    </tr>\n",
       "    <tr>\n",
       "      <th>1</th>\n",
       "      <td>Thomas</td>\n",
       "      <td>Powerlines</td>\n",
       "      <td>December</td>\n",
       "      <td>2017</td>\n",
       "      <td>Ventura &amp; Santa Barbara</td>\n",
       "      <td>281893</td>\n",
       "      <td>1063</td>\n",
       "      <td>2</td>\n",
       "    </tr>\n",
       "    <tr>\n",
       "      <th>16</th>\n",
       "      <td>Rough</td>\n",
       "      <td>Lightning</td>\n",
       "      <td>July</td>\n",
       "      <td>2015</td>\n",
       "      <td>Fresno</td>\n",
       "      <td>151623</td>\n",
       "      <td>4</td>\n",
       "      <td>0</td>\n",
       "    </tr>\n",
       "  </tbody>\n",
       "</table>\n",
       "</div>"
      ],
      "text/plain": [
       "            fire_name                cause     month  year  \\\n",
       "0   Mendocino Complex  Under Investigation      July  2018   \n",
       "15          Camp Fire           Powerlines  November  2018   \n",
       "6                Carr        Human Related      July  2018   \n",
       "1              Thomas           Powerlines  December  2017   \n",
       "16              Rough            Lightning      July  2015   \n",
       "\n",
       "                                               county   acres  structures  \\\n",
       "0   Colusa County, Lake County, Mendocino County &...  459123         280   \n",
       "15                                              Butte  153336       18804   \n",
       "6                        Shasta County,Trinity County  229651        1614   \n",
       "1                             Ventura & Santa Barbara  281893        1063   \n",
       "16                                             Fresno  151623           4   \n",
       "\n",
       "    deaths  \n",
       "0        1  \n",
       "15      85  \n",
       "6        8  \n",
       "1        2  \n",
       "16       0  "
      ]
     },
     "execution_count": 47,
     "metadata": {},
     "output_type": "execute_result"
    }
   ],
   "source": [
    "#8 Surūšiuokite eilutes pagal metus. Išsiaiškinkite, kaip rūšiuoti, kad naujausi gaisrai būtų viršuje\n",
    "fire.sort_values('year', ascending=False).head()"
   ]
  },
  {
   "cell_type": "code",
   "execution_count": 63,
   "metadata": {},
   "outputs": [],
   "source": [
    "#9 Parašykite funkciją, kuri mėnesio pavadinimą verstų skaičiumi. Naudodami .apply() lentelėje pakeiskite mėnesių pavadinimus skaičiais.\n",
    "def skaiciais(month):\n",
    "    months = {1: 'January',\n",
    "  2: 'February',\n",
    "  3: 'March',\n",
    "  4: 'April',\n",
    "  5: 'May',\n",
    "  6: 'June',\n",
    "  7: 'July',\n",
    "  8: 'August',\n",
    "  9: 'September',\n",
    "  10: 'October',\n",
    "  11: 'November',\n",
    "  12: 'December'}\n",
    "    for sk, men in months.items():\n",
    "        if men == month:\n",
    "            return sk"
   ]
  },
  {
   "cell_type": "code",
   "execution_count": 64,
   "metadata": {},
   "outputs": [],
   "source": [
    "fire[\"month\"] = fire['month'].apply(skaiciais)"
   ]
  },
  {
   "cell_type": "code",
   "execution_count": 65,
   "metadata": {},
   "outputs": [
    {
     "data": {
      "text/html": [
       "<div>\n",
       "<style scoped>\n",
       "    .dataframe tbody tr th:only-of-type {\n",
       "        vertical-align: middle;\n",
       "    }\n",
       "\n",
       "    .dataframe tbody tr th {\n",
       "        vertical-align: top;\n",
       "    }\n",
       "\n",
       "    .dataframe thead th {\n",
       "        text-align: right;\n",
       "    }\n",
       "</style>\n",
       "<table border=\"1\" class=\"dataframe\">\n",
       "  <thead>\n",
       "    <tr style=\"text-align: right;\">\n",
       "      <th></th>\n",
       "      <th>fire_name</th>\n",
       "      <th>cause</th>\n",
       "      <th>month</th>\n",
       "      <th>year</th>\n",
       "      <th>county</th>\n",
       "      <th>acres</th>\n",
       "      <th>structures</th>\n",
       "      <th>deaths</th>\n",
       "    </tr>\n",
       "  </thead>\n",
       "  <tbody>\n",
       "    <tr>\n",
       "      <th>0</th>\n",
       "      <td>Mendocino Complex</td>\n",
       "      <td>Under Investigation</td>\n",
       "      <td>7</td>\n",
       "      <td>2018</td>\n",
       "      <td>Colusa County, Lake County, Mendocino County &amp;...</td>\n",
       "      <td>459123</td>\n",
       "      <td>280</td>\n",
       "      <td>1</td>\n",
       "    </tr>\n",
       "    <tr>\n",
       "      <th>1</th>\n",
       "      <td>Thomas</td>\n",
       "      <td>Powerlines</td>\n",
       "      <td>12</td>\n",
       "      <td>2017</td>\n",
       "      <td>Ventura &amp; Santa Barbara</td>\n",
       "      <td>281893</td>\n",
       "      <td>1063</td>\n",
       "      <td>2</td>\n",
       "    </tr>\n",
       "    <tr>\n",
       "      <th>2</th>\n",
       "      <td>Cedar</td>\n",
       "      <td>Human Related</td>\n",
       "      <td>10</td>\n",
       "      <td>2003</td>\n",
       "      <td>San Diego</td>\n",
       "      <td>273246</td>\n",
       "      <td>2820</td>\n",
       "      <td>15</td>\n",
       "    </tr>\n",
       "    <tr>\n",
       "      <th>3</th>\n",
       "      <td>Rush</td>\n",
       "      <td>Lightning</td>\n",
       "      <td>8</td>\n",
       "      <td>2012</td>\n",
       "      <td>Lassen</td>\n",
       "      <td>271911</td>\n",
       "      <td>0</td>\n",
       "      <td>0</td>\n",
       "    </tr>\n",
       "    <tr>\n",
       "      <th>4</th>\n",
       "      <td>Rim</td>\n",
       "      <td>Human Related</td>\n",
       "      <td>8</td>\n",
       "      <td>2013</td>\n",
       "      <td>Tuolumne</td>\n",
       "      <td>257314</td>\n",
       "      <td>112</td>\n",
       "      <td>0</td>\n",
       "    </tr>\n",
       "  </tbody>\n",
       "</table>\n",
       "</div>"
      ],
      "text/plain": [
       "           fire_name                cause  month  year  \\\n",
       "0  Mendocino Complex  Under Investigation      7  2018   \n",
       "1             Thomas           Powerlines     12  2017   \n",
       "2              Cedar        Human Related     10  2003   \n",
       "3               Rush            Lightning      8  2012   \n",
       "4                Rim        Human Related      8  2013   \n",
       "\n",
       "                                              county   acres  structures  \\\n",
       "0  Colusa County, Lake County, Mendocino County &...  459123         280   \n",
       "1                            Ventura & Santa Barbara  281893        1063   \n",
       "2                                          San Diego  273246        2820   \n",
       "3                                             Lassen  271911           0   \n",
       "4                                           Tuolumne  257314         112   \n",
       "\n",
       "   deaths  \n",
       "0       1  \n",
       "1       2  \n",
       "2      15  \n",
       "3       0  \n",
       "4       0  "
      ]
     },
     "execution_count": 65,
     "metadata": {},
     "output_type": "execute_result"
    }
   ],
   "source": [
    "fire.head()"
   ]
  },
  {
   "cell_type": "code",
   "execution_count": 3,
   "metadata": {},
   "outputs": [
    {
     "data": {
      "text/plain": [
       "[         0                                                  1\n",
       " 0  Country  any Austria Belgium Bulgaria Croatia Cyprus Cz...\n",
       " 1      NaN                                                NaN,\n",
       "              Staat                     Official languages    Population  \\\n",
       " 0          Austria                                 German   8.4 million   \n",
       " 1          Belgium  Dutch (north), French (south), German    11 million   \n",
       " 2         Bulgaria                              Bulgarian     7 million   \n",
       " 3          Croatia                               Croatian   4.3 million   \n",
       " 4           Cyprus                         Greek, Turkish       800 000   \n",
       " 5   Czech Republic                                  Czech    10 million   \n",
       " 6          Denmark                                 Danish   5.6 million   \n",
       " 7          Estonia                               Estonian   1.3 million   \n",
       " 8          Finland                       Finnish, Swedish   5.4 million   \n",
       " 9           France                                 French    65 million   \n",
       " 10         Germany                                 German  82.5 million   \n",
       " 11          Greece                                  Greek    11 million   \n",
       " 12         Hungary                              Hungarian    10 million   \n",
       " 13         Iceland                              Icelandic       320 000   \n",
       " 14         Ireland                         English, Irish   4.6 million   \n",
       " 15           Italy                                Italian  60.9 million   \n",
       " 16          Latvia                                Latvian     2 million   \n",
       " 17    Lichtenstein                                 German        36 300   \n",
       " 18       Lithuania                             Lithuanian     3 million   \n",
       " 19      Luxembourg          French, German, Luxembourgish       524 000   \n",
       " 20           Malta                       English, Maltese       450 000   \n",
       " 21     Netherlands                                  Dutch  16.8 million   \n",
       " 22          Norway                              Norwegian     5 million   \n",
       " 23          Poland                                 Polish  38.5 million   \n",
       " 24        Portugal                             Portuguese  10.5 million   \n",
       " 25         Romania                               Romanian  19.1 million   \n",
       " 26        Slovakia                              Slovakian   5.4 million   \n",
       " 27        Slovenia                              Slovenian     2 million   \n",
       " 28           Spain                                Spanish    47 million   \n",
       " 29          Sweden                                Swedish   9.5 million   \n",
       " 30     Switzerland       French, German, Italian, Romansh     8 million   \n",
       " 31  United Kingdom                                English  63.2 million   \n",
       " \n",
       "        Capital                Currency  Phone     Int.  \n",
       " 0       Vienna              euro (EUR)     43      .at  \n",
       " 1     Brussels              euro (EUR)     32      .be  \n",
       " 2        Sofia     Bulgarian lev (BGN)    359      .bg  \n",
       " 3       Zagreb     Croatian kuna (HRK)    385      .hr  \n",
       " 4      Nicosia              euro (EUR)    357      .cy  \n",
       " 5       Prague      Czech koruna (CZK)    420      .cz  \n",
       " 6   Copenhagen      Danish krone (DKK)     45      .dk  \n",
       " 7      Tallinn              euro (EUR)    372      .ee  \n",
       " 8     Helsinki              euro (EUR)    358  .fi/.ax  \n",
       " 9        Paris              euro (EUR)     33      .fr  \n",
       " 10      Berlin              euro (EUR)     49      .de  \n",
       " 11      Athens              euro (EUR)     30      .gr  \n",
       " 12    Budapest  Hungarian forint (HUF)     36      .hu  \n",
       " 13   Reykjavik   Icelandic krona (ISK)    354      .is  \n",
       " 14      Dublin              euro (EUR)    353      .ie  \n",
       " 15        Rome              euro (EUR)     39      .it  \n",
       " 16        Riga      Latvian lats (LVL)    371      .lv  \n",
       " 17       Vaduz       Swiss franc (CHF)    423      .li  \n",
       " 18     Vilnius  Lithuanian litas (LTL)    370      .lt  \n",
       " 19  Luxembourg              euro (EUR)    352      .lu  \n",
       " 20    Valletta              euro (EUR)    356      .mt  \n",
       " 21   Amsterdam              euro (EUR)     31      .nl  \n",
       " 22        Oslo   Norwegian krone (NOK)     47      .no  \n",
       " 23      Warsaw      Polish ztoty (PLN)     48      .pl  \n",
       " 24      Lisbon              euro (EUR)    351      .pt  \n",
       " 25   Bucharest      Romanian leu (RON)     40      .ro  \n",
       " 26  Bratislava              euro (EUR)    421      .sk  \n",
       " 27   Ljubljana              euro (EUR)    386      .si  \n",
       " 28      Madrid              euro (EUR)     34      .es  \n",
       " 29   Stockholm     Swedish krona (SEK)     46      .se  \n",
       " 30        Bern       Swiss franc (CHF)     41      .ch  \n",
       " 31      London          Pound sterling     44      .uk  ]"
      ]
     },
     "execution_count": 3,
     "metadata": {},
     "output_type": "execute_result"
    }
   ],
   "source": [
    "duomenys_html = pd.read_html('https://work.studentnews.eu/s/3695/75547-European-countries-the-table-language-population-capital-currency-phone-code-internet-code.htm')\n",
    "duomenys_html"
   ]
  },
  {
   "cell_type": "code",
   "execution_count": 14,
   "metadata": {},
   "outputs": [
    {
     "data": {
      "text/html": [
       "<div>\n",
       "<style scoped>\n",
       "    .dataframe tbody tr th:only-of-type {\n",
       "        vertical-align: middle;\n",
       "    }\n",
       "\n",
       "    .dataframe tbody tr th {\n",
       "        vertical-align: top;\n",
       "    }\n",
       "\n",
       "    .dataframe thead th {\n",
       "        text-align: right;\n",
       "    }\n",
       "</style>\n",
       "<table border=\"1\" class=\"dataframe\">\n",
       "  <thead>\n",
       "    <tr style=\"text-align: right;\">\n",
       "      <th></th>\n",
       "      <th>Staat</th>\n",
       "      <th>Official languages</th>\n",
       "      <th>Population</th>\n",
       "      <th>Capital</th>\n",
       "      <th>Currency</th>\n",
       "      <th>Phone</th>\n",
       "      <th>Int.</th>\n",
       "    </tr>\n",
       "  </thead>\n",
       "  <tbody>\n",
       "    <tr>\n",
       "      <th>0</th>\n",
       "      <td>Austria</td>\n",
       "      <td>German</td>\n",
       "      <td>8.4 million</td>\n",
       "      <td>Vienna</td>\n",
       "      <td>euro (EUR)</td>\n",
       "      <td>43</td>\n",
       "      <td>.at</td>\n",
       "    </tr>\n",
       "    <tr>\n",
       "      <th>1</th>\n",
       "      <td>Belgium</td>\n",
       "      <td>Dutch (north), French (south), German</td>\n",
       "      <td>11 million</td>\n",
       "      <td>Brussels</td>\n",
       "      <td>euro (EUR)</td>\n",
       "      <td>32</td>\n",
       "      <td>.be</td>\n",
       "    </tr>\n",
       "    <tr>\n",
       "      <th>2</th>\n",
       "      <td>Bulgaria</td>\n",
       "      <td>Bulgarian</td>\n",
       "      <td>7 million</td>\n",
       "      <td>Sofia</td>\n",
       "      <td>Bulgarian lev (BGN)</td>\n",
       "      <td>359</td>\n",
       "      <td>.bg</td>\n",
       "    </tr>\n",
       "    <tr>\n",
       "      <th>3</th>\n",
       "      <td>Croatia</td>\n",
       "      <td>Croatian</td>\n",
       "      <td>4.3 million</td>\n",
       "      <td>Zagreb</td>\n",
       "      <td>Croatian kuna (HRK)</td>\n",
       "      <td>385</td>\n",
       "      <td>.hr</td>\n",
       "    </tr>\n",
       "    <tr>\n",
       "      <th>4</th>\n",
       "      <td>Cyprus</td>\n",
       "      <td>Greek, Turkish</td>\n",
       "      <td>800 000</td>\n",
       "      <td>Nicosia</td>\n",
       "      <td>euro (EUR)</td>\n",
       "      <td>357</td>\n",
       "      <td>.cy</td>\n",
       "    </tr>\n",
       "  </tbody>\n",
       "</table>\n",
       "</div>"
      ],
      "text/plain": [
       "      Staat                     Official languages   Population   Capital  \\\n",
       "0   Austria                                 German  8.4 million    Vienna   \n",
       "1   Belgium  Dutch (north), French (south), German   11 million  Brussels   \n",
       "2  Bulgaria                              Bulgarian    7 million     Sofia   \n",
       "3   Croatia                               Croatian  4.3 million    Zagreb   \n",
       "4    Cyprus                         Greek, Turkish      800 000   Nicosia   \n",
       "\n",
       "              Currency  Phone Int.  \n",
       "0           euro (EUR)     43  .at  \n",
       "1           euro (EUR)     32  .be  \n",
       "2  Bulgarian lev (BGN)    359  .bg  \n",
       "3  Croatian kuna (HRK)    385  .hr  \n",
       "4           euro (EUR)    357  .cy  "
      ]
     },
     "execution_count": 14,
     "metadata": {},
     "output_type": "execute_result"
    }
   ],
   "source": [
    "duomenys_html[1].head()"
   ]
  },
  {
   "cell_type": "code",
   "execution_count": null,
   "metadata": {},
   "outputs": [],
   "source": [
    "from sqlalchemy import create_engine\n",
    "engine = create_engine('sqlite:///countries.db')\n",
    "countries.to_sql('countries', con=engine, index=False)"
   ]
  }
 ],
 "metadata": {
  "kernelspec": {
   "display_name": "venv",
   "language": "python",
   "name": "python3"
  },
  "language_info": {
   "codemirror_mode": {
    "name": "ipython",
    "version": 3
   },
   "file_extension": ".py",
   "mimetype": "text/x-python",
   "name": "python",
   "nbconvert_exporter": "python",
   "pygments_lexer": "ipython3",
   "version": "3.10.9"
  },
  "orig_nbformat": 4,
  "vscode": {
   "interpreter": {
    "hash": "7e8bf071ea3a9b758fdddc0fc2a7f54b74422ff0a0ef762d029d6dfa9be4616a"
   }
  }
 },
 "nbformat": 4,
 "nbformat_minor": 2
}
