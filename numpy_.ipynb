{
 "cells": [
  {
   "cell_type": "code",
   "execution_count": 1,
   "metadata": {},
   "outputs": [],
   "source": [
    "import numpy as np"
   ]
  },
  {
   "cell_type": "code",
   "execution_count": 3,
   "metadata": {},
   "outputs": [],
   "source": [
    "sarasas = [4, 7, 11, 6, 9, 69, 420, 777, 31]"
   ]
  },
  {
   "cell_type": "code",
   "execution_count": 4,
   "metadata": {},
   "outputs": [
    {
     "name": "stdout",
     "output_type": "stream",
     "text": [
      "[  4   7  11   6   9  69 420 777  31] <class 'numpy.ndarray'>\n"
     ]
    }
   ],
   "source": [
    "masyvas = np.array(sarasas) #np masyvas, sarasa reikia paversti np masyvu array\n",
    "print(masyvas, type(masyvas))"
   ]
  },
  {
   "cell_type": "code",
   "execution_count": 7,
   "metadata": {},
   "outputs": [],
   "source": [
    "sugrupuota = [[4, 7, 11],[6, 9, 69], [420, 777, 31]]"
   ]
  },
  {
   "cell_type": "code",
   "execution_count": 8,
   "metadata": {},
   "outputs": [
    {
     "name": "stdout",
     "output_type": "stream",
     "text": [
      "[[  4   7  11]\n",
      " [  6   9  69]\n",
      " [420 777  31]]\n"
     ]
    }
   ],
   "source": [
    "matrica = np.array(sugrupuota)\n",
    "print(matrica)"
   ]
  },
  {
   "cell_type": "code",
   "execution_count": 9,
   "metadata": {},
   "outputs": [
    {
     "name": "stdout",
     "output_type": "stream",
     "text": [
      "[ 0  3  6  9 12 15 18 21 24 27] <class 'numpy.ndarray'>\n"
     ]
    }
   ],
   "source": [
    "imtis = np.arange(0, 30, 3)\n",
    "print(imtis, type(imtis))"
   ]
  },
  {
   "cell_type": "code",
   "execution_count": null,
   "metadata": {},
   "outputs": [],
   "source": [
    "#dar masyva vadina vektoriumi"
   ]
  },
  {
   "cell_type": "code",
   "execution_count": 10,
   "metadata": {},
   "outputs": [
    {
     "name": "stdout",
     "output_type": "stream",
     "text": [
      "[0. 0. 0. 0. 0. 0. 0. 0. 0. 0.]\n"
     ]
    }
   ],
   "source": [
    "nuliai = np.zeros(10)\n",
    "print(nuliai)"
   ]
  },
  {
   "cell_type": "code",
   "execution_count": 12,
   "metadata": {},
   "outputs": [
    {
     "data": {
      "text/plain": [
       "array([[0., 0., 0., 0., 0., 0.],\n",
       "       [0., 0., 0., 0., 0., 0.],\n",
       "       [0., 0., 0., 0., 0., 0.],\n",
       "       [0., 0., 0., 0., 0., 0.],\n",
       "       [0., 0., 0., 0., 0., 0.],\n",
       "       [0., 0., 0., 0., 0., 0.]])"
      ]
     },
     "execution_count": 12,
     "metadata": {},
     "output_type": "execute_result"
    }
   ],
   "source": [
    "nuliai_6x6 = np.zeros((6, 6))\n",
    "nuliai_6x6"
   ]
  },
  {
   "cell_type": "code",
   "execution_count": 13,
   "metadata": {},
   "outputs": [
    {
     "data": {
      "text/plain": [
       "array([[1., 0., 0., 0., 0., 0.],\n",
       "       [0., 1., 0., 0., 0., 0.],\n",
       "       [0., 0., 1., 0., 0., 0.],\n",
       "       [0., 0., 0., 1., 0., 0.],\n",
       "       [0., 0., 0., 0., 1., 0.],\n",
       "       [0., 0., 0., 0., 0., 1.]])"
      ]
     },
     "execution_count": 13,
     "metadata": {},
     "output_type": "execute_result"
    }
   ],
   "source": [
    "akis = np.eye(6)\n",
    "akis"
   ]
  },
  {
   "cell_type": "code",
   "execution_count": 14,
   "metadata": {},
   "outputs": [
    {
     "data": {
      "text/plain": [
       "0.0"
      ]
     },
     "execution_count": 14,
     "metadata": {},
     "output_type": "execute_result"
    }
   ],
   "source": [
    "#kaip pasiekti matricos elementa\n",
    "akis[1][2]"
   ]
  },
  {
   "cell_type": "code",
   "execution_count": 15,
   "metadata": {},
   "outputs": [
    {
     "data": {
      "text/plain": [
       "array([[1., 3., 0., 0., 0., 0.],\n",
       "       [2., 1., 0., 0., 0., 0.],\n",
       "       [0., 0., 1., 0., 0., 0.],\n",
       "       [0., 0., 0., 1., 0., 0.],\n",
       "       [0., 0., 0., 0., 1., 0.],\n",
       "       [0., 0., 0., 0., 0., 1.]])"
      ]
     },
     "execution_count": 15,
     "metadata": {},
     "output_type": "execute_result"
    }
   ],
   "source": [
    "akis[0][1] = 3\n",
    "akis[1][0] = 2\n",
    "akis"
   ]
  },
  {
   "cell_type": "code",
   "execution_count": 18,
   "metadata": {},
   "outputs": [
    {
     "data": {
      "text/plain": [
       "array([ 2.,  4.,  6.,  8., 10.])"
      ]
     },
     "execution_count": 18,
     "metadata": {},
     "output_type": "execute_result"
    }
   ],
   "source": [
    "np.linspace(2, 10, 5) #nuo vieno iki vienuolikos padalina 10 i 5 dalis"
   ]
  },
  {
   "cell_type": "code",
   "execution_count": 19,
   "metadata": {},
   "outputs": [
    {
     "data": {
      "text/plain": [
       "array([0. , 0.5, 1. ])"
      ]
     },
     "execution_count": 19,
     "metadata": {},
     "output_type": "execute_result"
    }
   ],
   "source": [
    "np.linspace(0, 1, 3)"
   ]
  },
  {
   "cell_type": "code",
   "execution_count": 20,
   "metadata": {},
   "outputs": [
    {
     "data": {
      "text/plain": [
       "array([ 0.        ,  3.33333333,  6.66666667, 10.        ])"
      ]
     },
     "execution_count": 20,
     "metadata": {},
     "output_type": "execute_result"
    }
   ],
   "source": [
    "np.linspace(0, 10, 4)"
   ]
  },
  {
   "cell_type": "code",
   "execution_count": null,
   "metadata": {},
   "outputs": [],
   "source": [
    "#random arrays"
   ]
  },
  {
   "cell_type": "code",
   "execution_count": 28,
   "metadata": {},
   "outputs": [
    {
     "data": {
      "text/plain": [
       "array([0.31908049, 0.18397501, 0.07752751, 0.81585151, 0.86907128,\n",
       "       0.87759289, 0.54783556, 0.50415112, 0.06277495, 0.48793926])"
      ]
     },
     "execution_count": 28,
     "metadata": {},
     "output_type": "execute_result"
    }
   ],
   "source": [
    "np.random.rand(10) #10 atsitiktiniu skaiciu"
   ]
  },
  {
   "cell_type": "code",
   "execution_count": 22,
   "metadata": {},
   "outputs": [
    {
     "data": {
      "text/plain": [
       "array([[0.46510617, 0.49121617, 0.15225267, 0.61074937, 0.77155842],\n",
       "       [0.10971443, 0.40294142, 0.69971646, 0.18328189, 0.16674058],\n",
       "       [0.33113191, 0.96904137, 0.95850859, 0.00885098, 0.68513446],\n",
       "       [0.50933282, 0.52568673, 0.66758565, 0.75976703, 0.31566829],\n",
       "       [0.00522822, 0.42908864, 0.97811288, 0.68031005, 0.6809779 ]])"
      ]
     },
     "execution_count": 22,
     "metadata": {},
     "output_type": "execute_result"
    }
   ],
   "source": [
    "np.random.rand(5, 5)"
   ]
  },
  {
   "cell_type": "code",
   "execution_count": 24,
   "metadata": {},
   "outputs": [
    {
     "data": {
      "text/plain": [
       "array([[-105.32144658,  -76.18148032,  -88.49337244,   14.34790143,\n",
       "          80.62654356],\n",
       "       [  79.80343129,  -28.95090467,  -70.18934537,  -39.80614742,\n",
       "          63.53074954],\n",
       "       [  73.04881247, -145.98851257,  -98.90730176,   40.07659539,\n",
       "          30.54118946],\n",
       "       [-106.07479909, -171.16318615,  -26.63211563, -165.64521107,\n",
       "          46.03689973],\n",
       "       [  11.08940732,   40.70788285,  -36.21275457,  135.34056895,\n",
       "          89.52388393]])"
      ]
     },
     "execution_count": 24,
     "metadata": {},
     "output_type": "execute_result"
    }
   ],
   "source": [
    "np.random.randn(5, 5) * 100 #atsitiktinius skaicius daugina is 100"
   ]
  },
  {
   "cell_type": "code",
   "execution_count": 29,
   "metadata": {},
   "outputs": [
    {
     "data": {
      "text/plain": [
       "array([188, 173, 141, 102, 105, 149, 106, 122, 128, 182])"
      ]
     },
     "execution_count": 29,
     "metadata": {},
     "output_type": "execute_result"
    }
   ],
   "source": [
    "np.random.randint(100, 200, 10)"
   ]
  },
  {
   "cell_type": "code",
   "execution_count": null,
   "metadata": {},
   "outputs": [],
   "source": [
    "#masyvu pertvarkymas"
   ]
  },
  {
   "cell_type": "code",
   "execution_count": 31,
   "metadata": {},
   "outputs": [
    {
     "data": {
      "text/plain": [
       "array([163, 727, 112, 381, 812, 523, 903, 543, 265, 117, 640, 356, 701,\n",
       "       826, 803, 320, 967, 373, 677, 554, 433, 860, 196, 234, 780, 124,\n",
       "       397, 260, 506, 290, 203, 546, 916, 235, 948, 272, 519, 135, 411,\n",
       "       327, 671, 384, 713, 395, 118, 883, 550, 629, 670, 431, 813, 178,\n",
       "       120, 765, 421, 905, 102, 796, 639, 802, 783, 330, 844, 653])"
      ]
     },
     "execution_count": 31,
     "metadata": {},
     "output_type": "execute_result"
    }
   ],
   "source": [
    "betko_64 = np.random.randint(100, 999, 64) #bet kokie 64 skaicia\n",
    "betko_64"
   ]
  },
  {
   "cell_type": "code",
   "execution_count": 32,
   "metadata": {},
   "outputs": [
    {
     "name": "stdout",
     "output_type": "stream",
     "text": [
      "[[163 727 112 381 812 523 903 543]\n",
      " [265 117 640 356 701 826 803 320]\n",
      " [967 373 677 554 433 860 196 234]\n",
      " [780 124 397 260 506 290 203 546]\n",
      " [916 235 948 272 519 135 411 327]\n",
      " [671 384 713 395 118 883 550 629]\n",
      " [670 431 813 178 120 765 421 905]\n",
      " [102 796 639 802 783 330 844 653]]\n"
     ]
    }
   ],
   "source": [
    "betko_8x8 = betko_64.reshape(8, 8)\n",
    "print(betko_8x8)"
   ]
  },
  {
   "cell_type": "code",
   "execution_count": 33,
   "metadata": {},
   "outputs": [
    {
     "name": "stdout",
     "output_type": "stream",
     "text": [
      "[[968 366 541 560 756]\n",
      " [404 421 709 745 237]\n",
      " [443 744 204 309 954]\n",
      " [761 411 457 993 846]]\n"
     ]
    }
   ],
   "source": [
    "#netaisiklinga matrica\n",
    "betko_20 = np.random.randint(100, 999, 20)\n",
    "betko_4x5 = betko_20.reshape(4, 5)\n",
    "print(betko_4x5) #skiraisi eiluciu ir stulpeliu skaicius"
   ]
  },
  {
   "cell_type": "code",
   "execution_count": null,
   "metadata": {},
   "outputs": [],
   "source": [
    "#naudingi metodai"
   ]
  },
  {
   "cell_type": "code",
   "execution_count": 34,
   "metadata": {},
   "outputs": [
    {
     "name": "stdout",
     "output_type": "stream",
     "text": [
      "102\n",
      "102\n"
     ]
    }
   ],
   "source": [
    "print(min(betko_64)) #python min\n",
    "print(betko_64.min()) #np min"
   ]
  },
  {
   "cell_type": "code",
   "execution_count": 35,
   "metadata": {},
   "outputs": [
    {
     "data": {
      "text/plain": [
       "967"
      ]
     },
     "execution_count": 35,
     "metadata": {},
     "output_type": "execute_result"
    }
   ],
   "source": [
    "betko_8x8.max()\n"
   ]
  },
  {
   "cell_type": "code",
   "execution_count": 37,
   "metadata": {},
   "outputs": [
    {
     "name": "stdout",
     "output_type": "stream",
     "text": [
      "12 204\n"
     ]
    }
   ],
   "source": [
    "print(betko_20.argmin(), betko_20.min()) #kurioje vietoje ir kokia reiksme, siuo atveju 12 vieta reiksme 204"
   ]
  },
  {
   "cell_type": "code",
   "execution_count": 38,
   "metadata": {},
   "outputs": [
    {
     "data": {
      "text/plain": [
       "16"
      ]
     },
     "execution_count": 38,
     "metadata": {},
     "output_type": "execute_result"
    }
   ],
   "source": [
    "betko_8x8.argmax()"
   ]
  },
  {
   "cell_type": "code",
   "execution_count": 40,
   "metadata": {},
   "outputs": [
    {
     "name": "stdout",
     "output_type": "stream",
     "text": [
      "[[1 1 1 1 1]\n",
      " [1 1 1 1 1]\n",
      " [1 1 1 1 1]\n",
      " [1 1 1 1 1]\n",
      " [1 1 1 1 1]]\n"
     ]
    }
   ],
   "source": [
    "kvadratas =  np.zeros((5, 5)).astype(int) + 1\n",
    "print(kvadratas)"
   ]
  },
  {
   "cell_type": "code",
   "execution_count": 41,
   "metadata": {},
   "outputs": [
    {
     "data": {
      "text/plain": [
       "(8, 8)"
      ]
     },
     "execution_count": 41,
     "metadata": {},
     "output_type": "execute_result"
    }
   ],
   "source": [
    "betko_8x8.shape"
   ]
  },
  {
   "cell_type": "code",
   "execution_count": 42,
   "metadata": {},
   "outputs": [
    {
     "data": {
      "text/plain": [
       "dtype('int64')"
      ]
     },
     "execution_count": 42,
     "metadata": {},
     "output_type": "execute_result"
    }
   ],
   "source": [
    "betko_4x5.dtype #parodo koks yra kintamuju tipas"
   ]
  },
  {
   "cell_type": "code",
   "execution_count": null,
   "metadata": {},
   "outputs": [],
   "source": [
    "#indeksacija ir reiksmiu traukimas"
   ]
  },
  {
   "cell_type": "code",
   "execution_count": 43,
   "metadata": {},
   "outputs": [
    {
     "data": {
      "text/plain": [
       "array([968, 366, 541, 560, 756, 404, 421, 709, 745, 237, 443, 744, 204,\n",
       "       309, 954, 761, 411, 457, 993, 846])"
      ]
     },
     "execution_count": 43,
     "metadata": {},
     "output_type": "execute_result"
    }
   ],
   "source": [
    "betko_20"
   ]
  },
  {
   "cell_type": "code",
   "execution_count": 44,
   "metadata": {},
   "outputs": [
    {
     "data": {
      "text/plain": [
       "541"
      ]
     },
     "execution_count": 44,
     "metadata": {},
     "output_type": "execute_result"
    }
   ],
   "source": [
    "betko_20[2]"
   ]
  },
  {
   "cell_type": "code",
   "execution_count": 45,
   "metadata": {},
   "outputs": [
    {
     "data": {
      "text/plain": [
       "array([541, 560, 756])"
      ]
     },
     "execution_count": 45,
     "metadata": {},
     "output_type": "execute_result"
    }
   ],
   "source": [
    "betko_20[2:5]"
   ]
  },
  {
   "cell_type": "code",
   "execution_count": 46,
   "metadata": {},
   "outputs": [
    {
     "data": {
      "text/plain": [
       "array([968, 541, 756, 421, 745, 443, 204, 954, 411, 993])"
      ]
     },
     "execution_count": 46,
     "metadata": {},
     "output_type": "execute_result"
    }
   ],
   "source": [
    "betko_20[::2]"
   ]
  },
  {
   "cell_type": "code",
   "execution_count": 47,
   "metadata": {},
   "outputs": [
    {
     "data": {
      "text/plain": [
       "array([968, 366, 541, 560, 756, 404, 421, 709, 745, 237, 443, 744, 204,\n",
       "       309, 954, 777, 411, 457, 993, 846])"
      ]
     },
     "execution_count": 47,
     "metadata": {},
     "output_type": "execute_result"
    }
   ],
   "source": [
    "betko_20[-5]= 777\n",
    "betko_20"
   ]
  },
  {
   "cell_type": "code",
   "execution_count": 48,
   "metadata": {},
   "outputs": [
    {
     "data": {
      "text/plain": [
       "array([[163, 727, 112, 381, 812, 523, 903, 543],\n",
       "       [265, 117, 640, 356, 701, 826, 803, 320],\n",
       "       [967, 373, 677, 554, 433, 860, 196, 234],\n",
       "       [780, 124, 397, 260, 506, 290, 203, 546],\n",
       "       [916, 235, 948, 272, 519, 135, 411, 327],\n",
       "       [671, 384, 713, 395, 118, 883, 550, 629],\n",
       "       [670, 431, 813, 178, 120, 765, 421, 905],\n",
       "       [102, 796, 639, 802, 783, 330, 844, 653]])"
      ]
     },
     "execution_count": 48,
     "metadata": {},
     "output_type": "execute_result"
    }
   ],
   "source": [
    "betko_8x8"
   ]
  },
  {
   "cell_type": "code",
   "execution_count": 49,
   "metadata": {},
   "outputs": [
    {
     "data": {
      "text/plain": [
       "677"
      ]
     },
     "execution_count": 49,
     "metadata": {},
     "output_type": "execute_result"
    }
   ],
   "source": [
    "betko_8x8[2, 2]"
   ]
  },
  {
   "cell_type": "code",
   "execution_count": 51,
   "metadata": {},
   "outputs": [
    {
     "data": {
      "text/plain": [
       "array([677, 554, 433])"
      ]
     },
     "execution_count": 51,
     "metadata": {},
     "output_type": "execute_result"
    }
   ],
   "source": [
    "betko_8x8[2,2:5] #pirmas yra y, antras x antroje eilute nuo 2 iki 5"
   ]
  },
  {
   "cell_type": "code",
   "execution_count": 52,
   "metadata": {},
   "outputs": [
    {
     "data": {
      "text/plain": [
       "array([[677, 554, 433, 860],\n",
       "       [397, 260, 506, 290],\n",
       "       [948, 272, 519, 135],\n",
       "       [713, 395, 118, 883]])"
      ]
     },
     "execution_count": 52,
     "metadata": {},
     "output_type": "execute_result"
    }
   ],
   "source": [
    "betko_8x8[2:-2, 2:-2]"
   ]
  },
  {
   "cell_type": "code",
   "execution_count": 53,
   "metadata": {},
   "outputs": [
    {
     "data": {
      "text/plain": [
       "array([[883, 550, 629],\n",
       "       [765, 421, 905],\n",
       "       [330, 844, 653]])"
      ]
     },
     "execution_count": 53,
     "metadata": {},
     "output_type": "execute_result"
    }
   ],
   "source": [
    "betko_8x8[-3:,-3:]"
   ]
  },
  {
   "cell_type": "code",
   "execution_count": 54,
   "metadata": {},
   "outputs": [
    {
     "data": {
      "text/plain": [
       "array([[709, 745, 237],\n",
       "       [204, 309, 954],\n",
       "       [457, 993, 846]])"
      ]
     },
     "execution_count": 54,
     "metadata": {},
     "output_type": "execute_result"
    }
   ],
   "source": [
    "betko_4x5[-3:, -3:]"
   ]
  },
  {
   "cell_type": "code",
   "execution_count": null,
   "metadata": {},
   "outputs": [],
   "source": [
    "#reiksmiu traukimas pagal salyga"
   ]
  },
  {
   "cell_type": "code",
   "execution_count": 55,
   "metadata": {},
   "outputs": [
    {
     "data": {
      "text/plain": [
       "array([[False,  True, False, False,  True,  True,  True,  True],\n",
       "       [False, False,  True, False,  True,  True,  True, False],\n",
       "       [ True, False,  True,  True, False,  True, False, False],\n",
       "       [ True, False, False, False,  True, False, False,  True],\n",
       "       [ True, False,  True, False,  True, False, False, False],\n",
       "       [ True, False,  True, False, False,  True,  True,  True],\n",
       "       [ True, False,  True, False, False,  True, False,  True],\n",
       "       [False,  True,  True,  True,  True, False,  True,  True]])"
      ]
     },
     "execution_count": 55,
     "metadata": {},
     "output_type": "execute_result"
    }
   ],
   "source": [
    "tiesa_8x8 = betko_8x8 > 500\n",
    "tiesa_8x8"
   ]
  },
  {
   "cell_type": "code",
   "execution_count": 56,
   "metadata": {},
   "outputs": [
    {
     "data": {
      "text/plain": [
       "array([727, 812, 523, 903, 543, 640, 701, 826, 803, 967, 677, 554, 860,\n",
       "       780, 506, 546, 916, 948, 519, 671, 713, 883, 550, 629, 670, 813,\n",
       "       765, 905, 796, 639, 802, 783, 844, 653])"
      ]
     },
     "execution_count": 56,
     "metadata": {},
     "output_type": "execute_result"
    }
   ],
   "source": [
    "betko_8x8[tiesa_8x8]"
   ]
  },
  {
   "cell_type": "code",
   "execution_count": 65,
   "metadata": {},
   "outputs": [],
   "source": [
    "dideli = betko_8x8[tiesa_8x8]"
   ]
  },
  {
   "cell_type": "code",
   "execution_count": 57,
   "metadata": {},
   "outputs": [
    {
     "data": {
      "text/plain": [
       "array([163, 112, 117, 196, 124, 135, 118, 178, 120, 102])"
      ]
     },
     "execution_count": 57,
     "metadata": {},
     "output_type": "execute_result"
    }
   ],
   "source": [
    "betko_8x8[betko_8x8 < 200]"
   ]
  },
  {
   "cell_type": "code",
   "execution_count": 66,
   "metadata": {},
   "outputs": [
    {
     "data": {
      "text/plain": [
       "(34,)"
      ]
     },
     "execution_count": 66,
     "metadata": {},
     "output_type": "execute_result"
    }
   ],
   "source": [
    "dideli.shape"
   ]
  },
  {
   "cell_type": "code",
   "execution_count": 67,
   "metadata": {},
   "outputs": [
    {
     "data": {
      "text/plain": [
       "array([[727, 812],\n",
       "       [523, 903],\n",
       "       [543, 640],\n",
       "       [701, 826],\n",
       "       [803, 967],\n",
       "       [677, 554],\n",
       "       [860, 780],\n",
       "       [506, 546],\n",
       "       [916, 948],\n",
       "       [519, 671],\n",
       "       [713, 883],\n",
       "       [550, 629],\n",
       "       [670, 813],\n",
       "       [765, 905],\n",
       "       [796, 639],\n",
       "       [802, 783],\n",
       "       [844, 653]])"
      ]
     },
     "execution_count": 67,
     "metadata": {},
     "output_type": "execute_result"
    }
   ],
   "source": [
    "dideli.reshape(17, 2)"
   ]
  },
  {
   "cell_type": "code",
   "execution_count": null,
   "metadata": {},
   "outputs": [],
   "source": [
    "#elgsenos ypatumai"
   ]
  },
  {
   "cell_type": "code",
   "execution_count": 68,
   "metadata": {},
   "outputs": [
    {
     "data": {
      "text/plain": [
       "array([968, 366, 541, 560, 756, 404, 421, 709, 745, 237, 443, 744, 204,\n",
       "       309, 954, 777, 411, 457, 993, 846])"
      ]
     },
     "execution_count": 68,
     "metadata": {},
     "output_type": "execute_result"
    }
   ],
   "source": [
    "betko_20"
   ]
  },
  {
   "cell_type": "code",
   "execution_count": 70,
   "metadata": {},
   "outputs": [
    {
     "data": {
      "text/plain": [
       "array([404, 421, 709, 745, 237, 443, 744, 204, 309, 954])"
      ]
     },
     "execution_count": 70,
     "metadata": {},
     "output_type": "execute_result"
    }
   ],
   "source": [
    "ispjova = betko_20[5: -5]\n",
    "ispjova"
   ]
  },
  {
   "cell_type": "code",
   "execution_count": 71,
   "metadata": {},
   "outputs": [],
   "source": [
    "ispjova[:] = 999 #visus narius keiciame i 999, bet pradzioje reikia persitvarkyti, nes kitaip duos ir senas reiksmes"
   ]
  },
  {
   "cell_type": "code",
   "execution_count": 76,
   "metadata": {},
   "outputs": [
    {
     "data": {
      "text/plain": [
       "array([968, 366, 541, 560, 756, 999, 999, 999, 999, 999, 999, 999, 999,\n",
       "       999, 999, 777, 411, 457, 993, 846])"
      ]
     },
     "execution_count": 76,
     "metadata": {},
     "output_type": "execute_result"
    }
   ],
   "source": [
    "betko_20"
   ]
  },
  {
   "cell_type": "code",
   "execution_count": 86,
   "metadata": {},
   "outputs": [
    {
     "data": {
      "text/plain": [
       "array([968, 366, 541, 560, 756, 999, 999, 999, 999, 999, 999, 999, 999,\n",
       "       999, 999, 777, 411, 457, 993, 846])"
      ]
     },
     "execution_count": 86,
     "metadata": {},
     "output_type": "execute_result"
    }
   ],
   "source": [
    "kopija = betko_20.copy()\n",
    "kopija\n"
   ]
  },
  {
   "cell_type": "code",
   "execution_count": 87,
   "metadata": {},
   "outputs": [
    {
     "data": {
      "text/plain": [
       "array([ True,  True,  True,  True,  True,  True,  True,  True,  True,\n",
       "        True,  True,  True,  True,  True,  True,  True,  True,  True,\n",
       "        True,  True])"
      ]
     },
     "execution_count": 87,
     "metadata": {},
     "output_type": "execute_result"
    }
   ],
   "source": [
    "kopija == betko_20 #turi buti tiesa"
   ]
  },
  {
   "cell_type": "code",
   "execution_count": 88,
   "metadata": {},
   "outputs": [
    {
     "data": {
      "text/plain": [
       "array([999, 999, 999, 999, 999, 999, 999, 999, 999, 999])"
      ]
     },
     "execution_count": 88,
     "metadata": {},
     "output_type": "execute_result"
    }
   ],
   "source": [
    "kopija_ispjova = kopija[5:-5]\n",
    "kopija_ispjova"
   ]
  },
  {
   "cell_type": "code",
   "execution_count": 89,
   "metadata": {},
   "outputs": [],
   "source": [
    "kopija_ispjova[:] = np.random.randint(100, 999, 10)"
   ]
  },
  {
   "cell_type": "code",
   "execution_count": 90,
   "metadata": {},
   "outputs": [
    {
     "data": {
      "text/plain": [
       "array([968, 366, 541, 560, 756, 861, 350, 726, 216, 252, 426, 255, 534,\n",
       "       537, 205, 777, 411, 457, 993, 846])"
      ]
     },
     "execution_count": 90,
     "metadata": {},
     "output_type": "execute_result"
    }
   ],
   "source": [
    "kopija"
   ]
  },
  {
   "cell_type": "code",
   "execution_count": 91,
   "metadata": {},
   "outputs": [
    {
     "data": {
      "text/plain": [
       "array([ True,  True,  True,  True,  True, False, False, False, False,\n",
       "       False, False, False, False, False, False,  True,  True,  True,\n",
       "        True,  True])"
      ]
     },
     "execution_count": 91,
     "metadata": {},
     "output_type": "execute_result"
    }
   ],
   "source": [
    "kopija == betko_20"
   ]
  },
  {
   "cell_type": "code",
   "execution_count": null,
   "metadata": {},
   "outputs": [],
   "source": [
    "#matematines operacijos"
   ]
  },
  {
   "cell_type": "code",
   "execution_count": 92,
   "metadata": {},
   "outputs": [
    {
     "name": "stdout",
     "output_type": "stream",
     "text": [
      "[56 68 52 62 63 60 64 77  1 44] [30 80 79 52 95 27 28 62 76 15]\n"
     ]
    }
   ],
   "source": [
    "pirmi_10 = np.random.randint(0, 99, 10)\n",
    "antri_10 = np.random.randint(0, 99, 10)\n",
    "print(pirmi_10, antri_10)"
   ]
  },
  {
   "cell_type": "code",
   "execution_count": 93,
   "metadata": {},
   "outputs": [
    {
     "data": {
      "text/plain": [
       "array([ 86, 148, 131, 114, 158,  87,  92, 139,  77,  59])"
      ]
     },
     "execution_count": 93,
     "metadata": {},
     "output_type": "execute_result"
    }
   ],
   "source": [
    "sudetis = pirmi_10 + antri_10\n",
    "sudetis"
   ]
  },
  {
   "cell_type": "code",
   "execution_count": 94,
   "metadata": {},
   "outputs": [
    {
     "data": {
      "text/plain": [
       "array([1680, 5440, 4108, 3224, 5985, 1620, 1792, 4774,   76,  660])"
      ]
     },
     "execution_count": 94,
     "metadata": {},
     "output_type": "execute_result"
    }
   ],
   "source": [
    "daugyba= (pirmi_10 * antri_10)\n",
    "daugyba"
   ]
  },
  {
   "cell_type": "code",
   "execution_count": 95,
   "metadata": {},
   "outputs": [
    {
     "data": {
      "text/plain": [
       "array([ 0.53571429,  1.17647059,  1.51923077,  0.83870968,  1.50793651,\n",
       "        0.45      ,  0.4375    ,  0.80519481, 76.        ,  0.34090909])"
      ]
     },
     "execution_count": 95,
     "metadata": {},
     "output_type": "execute_result"
    }
   ],
   "source": [
    "dalyba = (antri_10 / pirmi_10)\n",
    "dalyba"
   ]
  },
  {
   "cell_type": "code",
   "execution_count": 96,
   "metadata": {},
   "outputs": [
    {
     "data": {
      "text/plain": [
       "array([175616, 314432, 140608, 238328, 250047, 216000, 262144, 456533,\n",
       "            1,  85184])"
      ]
     },
     "execution_count": 96,
     "metadata": {},
     "output_type": "execute_result"
    }
   ],
   "source": [
    "kubu = pirmi_10 ** 3\n",
    "kubu"
   ]
  },
  {
   "cell_type": "code",
   "execution_count": 97,
   "metadata": {},
   "outputs": [
    {
     "data": {
      "text/plain": [
       "array([                   0,  1152921504606846976, -8070450532247928832,\n",
       "        4988354582640852992,  8055827235060000897,  1152921504606846976,\n",
       "                          0,  1417994635528012185,                    1,\n",
       "       -8070450532247928832])"
      ]
     },
     "execution_count": 97,
     "metadata": {},
     "output_type": "execute_result"
    }
   ],
   "source": [
    "kubu = pirmi_10 ** 30 #jeigu yra - (minusai) tai perlipa sistemos ribas ir nebeskaiciuoja\n",
    "kubu"
   ]
  },
  {
   "cell_type": "code",
   "execution_count": 98,
   "metadata": {},
   "outputs": [
    {
     "data": {
      "text/plain": [
       "array([-0.521551  , -0.89792768,  0.98662759, -0.7391807 ,  0.1673557 ,\n",
       "       -0.30481062,  0.92002604,  0.99952016,  0.84147098,  0.01770193])"
      ]
     },
     "execution_count": 98,
     "metadata": {},
     "output_type": "execute_result"
    }
   ],
   "source": [
    "np.sin(pirmi_10)"
   ]
  },
  {
   "cell_type": "code",
   "execution_count": 99,
   "metadata": {},
   "outputs": [
    {
     "data": {
      "text/plain": [
       "array([4.02535169, 4.21950771, 3.95124372, 4.12713439, 4.14313473,\n",
       "       4.09434456, 4.15888308, 4.34380542, 0.        , 3.78418963])"
      ]
     },
     "execution_count": 99,
     "metadata": {},
     "output_type": "execute_result"
    }
   ],
   "source": [
    "np.log(pirmi_10)"
   ]
  },
  {
   "cell_type": "code",
   "execution_count": 100,
   "metadata": {},
   "outputs": [
    {
     "name": "stdout",
     "output_type": "stream",
     "text": [
      "[56 68 52 62 63 60 64 77  1 44] [4.02535169 4.21950771 3.95124372 4.12713439 4.14313473 4.09434456\n",
      " 4.15888308 4.34380542 0.         3.78418963]\n"
     ]
    }
   ],
   "source": [
    "print(pirmi_10, np.log(pirmi_10))"
   ]
  }
 ],
 "metadata": {
  "kernelspec": {
   "display_name": "venv",
   "language": "python",
   "name": "python3"
  },
  "language_info": {
   "codemirror_mode": {
    "name": "ipython",
    "version": 3
   },
   "file_extension": ".py",
   "mimetype": "text/x-python",
   "name": "python",
   "nbconvert_exporter": "python",
   "pygments_lexer": "ipython3",
   "version": "3.10.9 (v3.10.9:1dd9be6584, Dec  6 2022, 14:37:36) [Clang 13.0.0 (clang-1300.0.29.30)]"
  },
  "orig_nbformat": 4,
  "vscode": {
   "interpreter": {
    "hash": "7e8bf071ea3a9b758fdddc0fc2a7f54b74422ff0a0ef762d029d6dfa9be4616a"
   }
  }
 },
 "nbformat": 4,
 "nbformat_minor": 2
}
