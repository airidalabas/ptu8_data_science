{
 "cells": [
  {
   "cell_type": "code",
   "execution_count": 1,
   "metadata": {},
   "outputs": [],
   "source": [
    "#1 parašykite funkciją, kuri įvestą datą (formatas dd.mm.yyyy) keistų į yyyy mm dd. \n",
    "# Dėl datų logikos nesirūpinkite, dirbame grynai su tekstu.\n",
    "import re"
   ]
  },
  {
   "cell_type": "code",
   "execution_count": 21,
   "metadata": {},
   "outputs": [
    {
     "data": {
      "text/plain": [
       "'2000 12 12'"
      ]
     },
     "execution_count": 21,
     "metadata": {},
     "output_type": "execute_result"
    }
   ],
   "source": [
    "def date_format(date):\n",
    "    date_filter = re.compile(r'^(\\d{2})\\.(\\d{2})\\.(\\d{4})$')\n",
    "    result_filter = date_filter.sub('\\g<3> \\g<2> \\g<1>', date)\n",
    "    return result_filter\n",
    "date_format(\"12.12.2000\")"
   ]
  },
  {
   "cell_type": "code",
   "execution_count": 22,
   "metadata": {},
   "outputs": [],
   "source": [
    "#2 Iš šio teksto atspausdinkite datų sąrašą.\n",
    "text = '''Workshop & Tutorial proposals: November 21, 2019\n",
    "Notification of acceptance: December 1, 2019\n",
    "Workshop & Tutorial websites online: December 18, 2019\n",
    "Workshop papers: February 28, 2020\n",
    "Workshop paper notifications: March 27, 2020\n",
    "Workshop paper camera-ready versions: April 10, 2020\n",
    "Tutorial material due (online): April 10, 2020'''\n"
   ]
  },
  {
   "cell_type": "code",
   "execution_count": 23,
   "metadata": {},
   "outputs": [
    {
     "name": "stdout",
     "output_type": "stream",
     "text": [
      "['November 21, 2019', 'December 18, 2019', 'February 28, 2020', 'March 27, 2020', 'April 10, 2020', 'April 10, 2020']\n"
     ]
    }
   ],
   "source": [
    "words_in_lines_filter = re.compile(r'[A-Z{1}][a-z]\\w*\\s\\d{2},\\s\\d{4}')\n",
    "found_all = words_in_lines_filter.findall(text)\n",
    "print(found_all)"
   ]
  },
  {
   "cell_type": "code",
   "execution_count": null,
   "metadata": {},
   "outputs": [],
   "source": [
    "#3Atspausdinkite tą patį teksta taip:\n",
    "\n",
    "# 1.\n",
    "# Event: Workshop & Tutorial proposals due\n",
    "# Date: November 21, 2019\n",
    "\n",
    "# 2.\n",
    "# Event: Notification of acceptance\n",
    "# Date: December 1, 2019\n",
    "\n",
    "# ir t.t."
   ]
  },
  {
   "cell_type": "code",
   "execution_count": 91,
   "metadata": {},
   "outputs": [],
   "source": [
    "line_filter = re.compile(r'''\n",
    "(^.*) #grupe 1\n",
    ":\\s\n",
    "([A-Z{1}][a-z]\\w*\\s\\d{2},\\s\\d{4}) #grupe 2\n",
    "$''', re.MULTILINE| re.VERBOSE)\n",
    "\n",
    "found = line_filter.findall(text)\n",
    "for line in found:\n",
    "    \n",
    "\n",
    "# sk=1\n",
    "# for found in text.splitlines():\n",
    "#     found = line_filter.search(text)\n",
    "#     print(f'{sk}\\nEvent: {found.group(1)}\\nDate: {found.group(2)}\\n')\n",
    "#     sk +=1\n",
    "    \n",
    "\n"
   ]
  },
  {
   "cell_type": "code",
   "execution_count": 81,
   "metadata": {},
   "outputs": [
    {
     "name": "stdout",
     "output_type": "stream",
     "text": [
      "1.\n",
      "Event: Workshop & Tutorial proposals\n",
      "Date: November 21, 2019\n",
      "\n",
      "2.\n",
      "Event: Notification of acceptance\n",
      "Date: December 1, 2019\n",
      "\n",
      "3.\n",
      "Event: Workshop & Tutorial websites online\n",
      "Date: December 18, 2019\n",
      "\n",
      "4.\n",
      "Event: Workshop papers\n",
      "Date: February 28, 2020\n",
      "\n",
      "5.\n",
      "Event: Workshop paper notifications\n",
      "Date: March 27, 2020\n",
      "\n",
      "6.\n",
      "Event: Workshop paper camera-ready versions\n",
      "Date: April 10, 2020\n",
      "\n",
      "7.\n",
      "Event: Tutorial material due (online)\n",
      "Date: April 10, 2020\n",
      "\n"
     ]
    }
   ],
   "source": [
    "pattern = re.compile(r'''\n",
    "                        (^.+)                         # group 1\n",
    "                        :\\s\n",
    "                        ([A-Z]\\w+\\s\\d{1,2},\\s20\\d{2}) # group 2\n",
    "                        ''', re.X | re.M)\n",
    "seq = 1\n",
    "for line in text.splitlines():\n",
    "    res = pattern.search(line)\n",
    "    print(f'{seq}.\\nEvent: {res.group(1)}\\nDate: {res.group(2)}\\n')\n",
    "    seq += 1"
   ]
  },
  {
   "cell_type": "code",
   "execution_count": 89,
   "metadata": {},
   "outputs": [
    {
     "ename": "UnboundLocalError",
     "evalue": "local variable 'text' referenced before assignment",
     "output_type": "error",
     "traceback": [
      "\u001b[0;31m---------------------------------------------------------------------------\u001b[0m",
      "\u001b[0;31mUnboundLocalError\u001b[0m                         Traceback (most recent call last)",
      "Cell \u001b[0;32mIn[89], line 15\u001b[0m\n\u001b[1;32m     10\u001b[0m         text \u001b[39m=\u001b[39m text\u001b[39m.\u001b[39mreplace(word, censored_word)\n\u001b[1;32m     12\u001b[0m     \u001b[39m# čia bus jūsų funkcija\u001b[39;00m\n\u001b[1;32m     13\u001b[0m \n\u001b[1;32m     14\u001b[0m \u001b[39m# iškvietus funkciją, pvz.:\u001b[39;00m\n\u001b[0;32m---> 15\u001b[0m cenzura(\u001b[39m'\u001b[39;49m\u001b[39mbaisūs žodžiai, tokie kaip kvaraba, žaltys..\u001b[39;49m\u001b[39m'\u001b[39;49m, \u001b[39m'\u001b[39;49m\u001b[39mkvaraba\u001b[39;49m\u001b[39m'\u001b[39;49m, \u001b[39m'\u001b[39;49m\u001b[39mžaltys\u001b[39;49m\u001b[39m'\u001b[39;49m)\n\u001b[1;32m     16\u001b[0m \u001b[39m# mums atspausdintų\u001b[39;00m\n\u001b[1;32m     17\u001b[0m \u001b[39m# baisūs žodžiai, tokie kaip k*****a, ž****s..\u001b[39;00m\n",
      "Cell \u001b[0;32mIn[89], line 10\u001b[0m, in \u001b[0;36mcenzura\u001b[0;34m(tekstas, *keiksmai)\u001b[0m\n\u001b[1;32m      8\u001b[0m censored_part \u001b[39m=\u001b[39m \u001b[39mlen\u001b[39m(grouped\u001b[39m.\u001b[39mgroup(\u001b[39m2\u001b[39m)) \u001b[39m*\u001b[39m \u001b[39m'\u001b[39m\u001b[39m*\u001b[39m\u001b[39m'\u001b[39m\n\u001b[1;32m      9\u001b[0m censored_word \u001b[39m=\u001b[39m pattern\u001b[39m.\u001b[39msub(\u001b[39mf\u001b[39m\u001b[39m'\u001b[39m\u001b[39m\\\u001b[39m\u001b[39mg<1>\u001b[39m\u001b[39m{\u001b[39;00mcensored_part\u001b[39m}\u001b[39;00m\u001b[39m\\\u001b[39m\u001b[39mg<3>\u001b[39m\u001b[39m'\u001b[39m, word)\n\u001b[0;32m---> 10\u001b[0m text \u001b[39m=\u001b[39m text\u001b[39m.\u001b[39mreplace(word, censored_word)\n",
      "\u001b[0;31mUnboundLocalError\u001b[0m: local variable 'text' referenced before assignment"
     ]
    }
   ],
   "source": [
    "#4 Parašykite funkciją, kuri į parametrus priimtų tekstą ir žodžių, kuriuos reikia jame išcenzūruoti sąrašą. \n",
    "#Pvz, žodis \"kvaraba\" yra baisus keiksmažodis, ir mums reikia duotame tekste pakeisti k*****a. Pradėkite maždaug taip:\n",
    "\n",
    "def cenzura(tekstas, *keiksmai):\n",
    "    pattern = re.compile(r'([a-ząčęėįšųūž])([a-ząčęėįšųūž]+)([a-ząčęėįšųūž])')\n",
    "    for word in keiksmai:\n",
    "        grouped = pattern.search(word)\n",
    "        censored_part = len(grouped.group(2)) * '*'\n",
    "        censored_word = pattern.sub(f'\\g<1>{censored_part}\\g<3>', word)\n",
    "        text = text.replace(word, censored_word)\n",
    "# iškvietus funkciją, pvz.:\n",
    "cenzura('baisūs žodžiai, tokie kaip kvaraba, žaltys..', 'kvaraba', 'žaltys')\n",
    "# mums atspausdintų\n",
    "# baisūs žodžiai, tokie kaip k*****a, ž****s.."
   ]
  },
  {
   "cell_type": "code",
   "execution_count": null,
   "metadata": {},
   "outputs": [],
   "source": [
    "file = open('most_visited.html', 'r')\n",
    "html = file.read()\n",
    "domain_regex = re.compile(r'\\w+\\.\\w+\\.?\\w*')\n",
    "extracted_domains = domain_regex.findall(html)\n",
    "print(extracted_domains)"
   ]
  },
  {
   "cell_type": "markdown",
   "metadata": {},
   "source": []
  }
 ],
 "metadata": {
  "kernelspec": {
   "display_name": "venv",
   "language": "python",
   "name": "python3"
  },
  "language_info": {
   "codemirror_mode": {
    "name": "ipython",
    "version": 3
   },
   "file_extension": ".py",
   "mimetype": "text/x-python",
   "name": "python",
   "nbconvert_exporter": "python",
   "pygments_lexer": "ipython3",
   "version": "3.10.9"
  },
  "orig_nbformat": 4,
  "vscode": {
   "interpreter": {
    "hash": "7e8bf071ea3a9b758fdddc0fc2a7f54b74422ff0a0ef762d029d6dfa9be4616a"
   }
  }
 },
 "nbformat": 4,
 "nbformat_minor": 2
}
